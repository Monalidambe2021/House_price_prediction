{
 "cells": [
  {
   "cell_type": "code",
   "execution_count": 1,
   "metadata": {
    "executionInfo": {
     "elapsed": 694,
     "status": "ok",
     "timestamp": 1624897875821,
     "user": {
      "displayName": "Monali Dambe",
      "photoUrl": "",
      "userId": "09026880642029004944"
     },
     "user_tz": -330
    },
    "id": "g5ZCO25K-sRz"
   },
   "outputs": [],
   "source": [
    "# Import the libraries\n",
    "import pandas as pd\n",
    "import numpy as np\n",
    "import matplotlib.pyplot as plt\n",
    "import seaborn as sns\n",
    "from sklearn.metrics import mean_squared_log_error"
   ]
  },
  {
   "cell_type": "code",
   "execution_count": 2,
   "metadata": {
    "executionInfo": {
     "elapsed": 24,
     "status": "ok",
     "timestamp": 1624897876882,
     "user": {
      "displayName": "Monali Dambe",
      "photoUrl": "",
      "userId": "09026880642029004944"
     },
     "user_tz": -330
    },
    "id": "I4gPJqjU-1q8"
   },
   "outputs": [],
   "source": [
    "#Load the data\n",
    "df_train=pd.read_csv('../Datasets/house_price_dataset/train.csv',keep_default_na=False)\n",
    "df_test=pd.read_csv('../Datasets/house_price_dataset/test.csv',keep_default_na=False)"
   ]
  },
  {
   "cell_type": "code",
   "execution_count": 3,
   "metadata": {
    "colab": {
     "base_uri": "https://localhost:8080/",
     "height": 253
    },
    "executionInfo": {
     "elapsed": 1525,
     "status": "ok",
     "timestamp": 1624897878388,
     "user": {
      "displayName": "Monali Dambe",
      "photoUrl": "",
      "userId": "09026880642029004944"
     },
     "user_tz": -330
    },
    "id": "IL3AJ0SDPRdu",
    "outputId": "854105c0-5a8c-4383-e678-c170e148548f"
   },
   "outputs": [
    {
     "data": {
      "text/html": [
       "<div>\n",
       "<style scoped>\n",
       "    .dataframe tbody tr th:only-of-type {\n",
       "        vertical-align: middle;\n",
       "    }\n",
       "\n",
       "    .dataframe tbody tr th {\n",
       "        vertical-align: top;\n",
       "    }\n",
       "\n",
       "    .dataframe thead th {\n",
       "        text-align: right;\n",
       "    }\n",
       "</style>\n",
       "<table border=\"1\" class=\"dataframe\">\n",
       "  <thead>\n",
       "    <tr style=\"text-align: right;\">\n",
       "      <th></th>\n",
       "      <th>Id</th>\n",
       "      <th>MSSubClass</th>\n",
       "      <th>MSZoning</th>\n",
       "      <th>LotFrontage</th>\n",
       "      <th>LotArea</th>\n",
       "      <th>Street</th>\n",
       "      <th>Alley</th>\n",
       "      <th>LotShape</th>\n",
       "      <th>LandContour</th>\n",
       "      <th>Utilities</th>\n",
       "      <th>...</th>\n",
       "      <th>PoolArea</th>\n",
       "      <th>PoolQC</th>\n",
       "      <th>Fence</th>\n",
       "      <th>MiscFeature</th>\n",
       "      <th>MiscVal</th>\n",
       "      <th>MoSold</th>\n",
       "      <th>YrSold</th>\n",
       "      <th>SaleType</th>\n",
       "      <th>SaleCondition</th>\n",
       "      <th>SalePrice</th>\n",
       "    </tr>\n",
       "  </thead>\n",
       "  <tbody>\n",
       "    <tr>\n",
       "      <th>0</th>\n",
       "      <td>1</td>\n",
       "      <td>60</td>\n",
       "      <td>RL</td>\n",
       "      <td>65</td>\n",
       "      <td>8450</td>\n",
       "      <td>Pave</td>\n",
       "      <td>NA</td>\n",
       "      <td>Reg</td>\n",
       "      <td>Lvl</td>\n",
       "      <td>AllPub</td>\n",
       "      <td>...</td>\n",
       "      <td>0</td>\n",
       "      <td>NA</td>\n",
       "      <td>NA</td>\n",
       "      <td>NA</td>\n",
       "      <td>0</td>\n",
       "      <td>2</td>\n",
       "      <td>2008</td>\n",
       "      <td>WD</td>\n",
       "      <td>Normal</td>\n",
       "      <td>208500</td>\n",
       "    </tr>\n",
       "    <tr>\n",
       "      <th>1</th>\n",
       "      <td>2</td>\n",
       "      <td>20</td>\n",
       "      <td>RL</td>\n",
       "      <td>80</td>\n",
       "      <td>9600</td>\n",
       "      <td>Pave</td>\n",
       "      <td>NA</td>\n",
       "      <td>Reg</td>\n",
       "      <td>Lvl</td>\n",
       "      <td>AllPub</td>\n",
       "      <td>...</td>\n",
       "      <td>0</td>\n",
       "      <td>NA</td>\n",
       "      <td>NA</td>\n",
       "      <td>NA</td>\n",
       "      <td>0</td>\n",
       "      <td>5</td>\n",
       "      <td>2007</td>\n",
       "      <td>WD</td>\n",
       "      <td>Normal</td>\n",
       "      <td>181500</td>\n",
       "    </tr>\n",
       "    <tr>\n",
       "      <th>2</th>\n",
       "      <td>3</td>\n",
       "      <td>60</td>\n",
       "      <td>RL</td>\n",
       "      <td>68</td>\n",
       "      <td>11250</td>\n",
       "      <td>Pave</td>\n",
       "      <td>NA</td>\n",
       "      <td>IR1</td>\n",
       "      <td>Lvl</td>\n",
       "      <td>AllPub</td>\n",
       "      <td>...</td>\n",
       "      <td>0</td>\n",
       "      <td>NA</td>\n",
       "      <td>NA</td>\n",
       "      <td>NA</td>\n",
       "      <td>0</td>\n",
       "      <td>9</td>\n",
       "      <td>2008</td>\n",
       "      <td>WD</td>\n",
       "      <td>Normal</td>\n",
       "      <td>223500</td>\n",
       "    </tr>\n",
       "    <tr>\n",
       "      <th>3</th>\n",
       "      <td>4</td>\n",
       "      <td>70</td>\n",
       "      <td>RL</td>\n",
       "      <td>60</td>\n",
       "      <td>9550</td>\n",
       "      <td>Pave</td>\n",
       "      <td>NA</td>\n",
       "      <td>IR1</td>\n",
       "      <td>Lvl</td>\n",
       "      <td>AllPub</td>\n",
       "      <td>...</td>\n",
       "      <td>0</td>\n",
       "      <td>NA</td>\n",
       "      <td>NA</td>\n",
       "      <td>NA</td>\n",
       "      <td>0</td>\n",
       "      <td>2</td>\n",
       "      <td>2006</td>\n",
       "      <td>WD</td>\n",
       "      <td>Abnorml</td>\n",
       "      <td>140000</td>\n",
       "    </tr>\n",
       "    <tr>\n",
       "      <th>4</th>\n",
       "      <td>5</td>\n",
       "      <td>60</td>\n",
       "      <td>RL</td>\n",
       "      <td>84</td>\n",
       "      <td>14260</td>\n",
       "      <td>Pave</td>\n",
       "      <td>NA</td>\n",
       "      <td>IR1</td>\n",
       "      <td>Lvl</td>\n",
       "      <td>AllPub</td>\n",
       "      <td>...</td>\n",
       "      <td>0</td>\n",
       "      <td>NA</td>\n",
       "      <td>NA</td>\n",
       "      <td>NA</td>\n",
       "      <td>0</td>\n",
       "      <td>12</td>\n",
       "      <td>2008</td>\n",
       "      <td>WD</td>\n",
       "      <td>Normal</td>\n",
       "      <td>250000</td>\n",
       "    </tr>\n",
       "  </tbody>\n",
       "</table>\n",
       "<p>5 rows × 81 columns</p>\n",
       "</div>"
      ],
      "text/plain": [
       "   Id  MSSubClass MSZoning LotFrontage  LotArea Street Alley LotShape  \\\n",
       "0   1          60       RL          65     8450   Pave    NA      Reg   \n",
       "1   2          20       RL          80     9600   Pave    NA      Reg   \n",
       "2   3          60       RL          68    11250   Pave    NA      IR1   \n",
       "3   4          70       RL          60     9550   Pave    NA      IR1   \n",
       "4   5          60       RL          84    14260   Pave    NA      IR1   \n",
       "\n",
       "  LandContour Utilities  ... PoolArea PoolQC Fence MiscFeature MiscVal MoSold  \\\n",
       "0         Lvl    AllPub  ...        0     NA    NA          NA       0      2   \n",
       "1         Lvl    AllPub  ...        0     NA    NA          NA       0      5   \n",
       "2         Lvl    AllPub  ...        0     NA    NA          NA       0      9   \n",
       "3         Lvl    AllPub  ...        0     NA    NA          NA       0      2   \n",
       "4         Lvl    AllPub  ...        0     NA    NA          NA       0     12   \n",
       "\n",
       "  YrSold  SaleType  SaleCondition  SalePrice  \n",
       "0   2008        WD         Normal     208500  \n",
       "1   2007        WD         Normal     181500  \n",
       "2   2008        WD         Normal     223500  \n",
       "3   2006        WD        Abnorml     140000  \n",
       "4   2008        WD         Normal     250000  \n",
       "\n",
       "[5 rows x 81 columns]"
      ]
     },
     "execution_count": 3,
     "metadata": {},
     "output_type": "execute_result"
    }
   ],
   "source": [
    "df_train.head()"
   ]
  },
  {
   "cell_type": "code",
   "execution_count": 4,
   "metadata": {
    "colab": {
     "base_uri": "https://localhost:8080/"
    },
    "executionInfo": {
     "elapsed": 230,
     "status": "ok",
     "timestamp": 1624897878402,
     "user": {
      "displayName": "Monali Dambe",
      "photoUrl": "",
      "userId": "09026880642029004944"
     },
     "user_tz": -330
    },
    "id": "KBNSuiqu_OmQ",
    "outputId": "ed0e8021-e9ec-4dc7-f146-a15c015ab185"
   },
   "outputs": [
    {
     "name": "stdout",
     "output_type": "stream",
     "text": [
      "<class 'pandas.core.frame.DataFrame'>\n",
      "RangeIndex: 1460 entries, 0 to 1459\n",
      "Data columns (total 81 columns):\n",
      " #   Column         Non-Null Count  Dtype \n",
      "---  ------         --------------  ----- \n",
      " 0   Id             1460 non-null   int64 \n",
      " 1   MSSubClass     1460 non-null   int64 \n",
      " 2   MSZoning       1460 non-null   object\n",
      " 3   LotFrontage    1460 non-null   object\n",
      " 4   LotArea        1460 non-null   int64 \n",
      " 5   Street         1460 non-null   object\n",
      " 6   Alley          1460 non-null   object\n",
      " 7   LotShape       1460 non-null   object\n",
      " 8   LandContour    1460 non-null   object\n",
      " 9   Utilities      1460 non-null   object\n",
      " 10  LotConfig      1460 non-null   object\n",
      " 11  LandSlope      1460 non-null   object\n",
      " 12  Neighborhood   1460 non-null   object\n",
      " 13  Condition1     1460 non-null   object\n",
      " 14  Condition2     1460 non-null   object\n",
      " 15  BldgType       1460 non-null   object\n",
      " 16  HouseStyle     1460 non-null   object\n",
      " 17  OverallQual    1460 non-null   int64 \n",
      " 18  OverallCond    1460 non-null   int64 \n",
      " 19  YearBuilt      1460 non-null   int64 \n",
      " 20  YearRemodAdd   1460 non-null   int64 \n",
      " 21  RoofStyle      1460 non-null   object\n",
      " 22  RoofMatl       1460 non-null   object\n",
      " 23  Exterior1st    1460 non-null   object\n",
      " 24  Exterior2nd    1460 non-null   object\n",
      " 25  MasVnrType     1460 non-null   object\n",
      " 26  MasVnrArea     1460 non-null   object\n",
      " 27  ExterQual      1460 non-null   object\n",
      " 28  ExterCond      1460 non-null   object\n",
      " 29  Foundation     1460 non-null   object\n",
      " 30  BsmtQual       1460 non-null   object\n",
      " 31  BsmtCond       1460 non-null   object\n",
      " 32  BsmtExposure   1460 non-null   object\n",
      " 33  BsmtFinType1   1460 non-null   object\n",
      " 34  BsmtFinSF1     1460 non-null   int64 \n",
      " 35  BsmtFinType2   1460 non-null   object\n",
      " 36  BsmtFinSF2     1460 non-null   int64 \n",
      " 37  BsmtUnfSF      1460 non-null   int64 \n",
      " 38  TotalBsmtSF    1460 non-null   int64 \n",
      " 39  Heating        1460 non-null   object\n",
      " 40  HeatingQC      1460 non-null   object\n",
      " 41  CentralAir     1460 non-null   object\n",
      " 42  Electrical     1460 non-null   object\n",
      " 43  1stFlrSF       1460 non-null   int64 \n",
      " 44  2ndFlrSF       1460 non-null   int64 \n",
      " 45  LowQualFinSF   1460 non-null   int64 \n",
      " 46  GrLivArea      1460 non-null   int64 \n",
      " 47  BsmtFullBath   1460 non-null   int64 \n",
      " 48  BsmtHalfBath   1460 non-null   int64 \n",
      " 49  FullBath       1460 non-null   int64 \n",
      " 50  HalfBath       1460 non-null   int64 \n",
      " 51  BedroomAbvGr   1460 non-null   int64 \n",
      " 52  KitchenAbvGr   1460 non-null   int64 \n",
      " 53  KitchenQual    1460 non-null   object\n",
      " 54  TotRmsAbvGrd   1460 non-null   int64 \n",
      " 55  Functional     1460 non-null   object\n",
      " 56  Fireplaces     1460 non-null   int64 \n",
      " 57  FireplaceQu    1460 non-null   object\n",
      " 58  GarageType     1460 non-null   object\n",
      " 59  GarageYrBlt    1460 non-null   object\n",
      " 60  GarageFinish   1460 non-null   object\n",
      " 61  GarageCars     1460 non-null   int64 \n",
      " 62  GarageArea     1460 non-null   int64 \n",
      " 63  GarageQual     1460 non-null   object\n",
      " 64  GarageCond     1460 non-null   object\n",
      " 65  PavedDrive     1460 non-null   object\n",
      " 66  WoodDeckSF     1460 non-null   int64 \n",
      " 67  OpenPorchSF    1460 non-null   int64 \n",
      " 68  EnclosedPorch  1460 non-null   int64 \n",
      " 69  3SsnPorch      1460 non-null   int64 \n",
      " 70  ScreenPorch    1460 non-null   int64 \n",
      " 71  PoolArea       1460 non-null   int64 \n",
      " 72  PoolQC         1460 non-null   object\n",
      " 73  Fence          1460 non-null   object\n",
      " 74  MiscFeature    1460 non-null   object\n",
      " 75  MiscVal        1460 non-null   int64 \n",
      " 76  MoSold         1460 non-null   int64 \n",
      " 77  YrSold         1460 non-null   int64 \n",
      " 78  SaleType       1460 non-null   object\n",
      " 79  SaleCondition  1460 non-null   object\n",
      " 80  SalePrice      1460 non-null   int64 \n",
      "dtypes: int64(35), object(46)\n",
      "memory usage: 924.0+ KB\n"
     ]
    }
   ],
   "source": [
    "df_train.info()"
   ]
  },
  {
   "cell_type": "code",
   "execution_count": 5,
   "metadata": {
    "colab": {
     "base_uri": "https://localhost:8080/"
    },
    "executionInfo": {
     "elapsed": 202,
     "status": "ok",
     "timestamp": 1624897878406,
     "user": {
      "displayName": "Monali Dambe",
      "photoUrl": "",
      "userId": "09026880642029004944"
     },
     "user_tz": -330
    },
    "id": "oUsOIVelE79h",
    "outputId": "3858e149-584f-478e-cf13-f3dbbc016d71"
   },
   "outputs": [
    {
     "data": {
      "text/plain": [
       "array(['NA', 'Grvl', 'Pave'], dtype=object)"
      ]
     },
     "execution_count": 5,
     "metadata": {},
     "output_type": "execute_result"
    }
   ],
   "source": [
    "df_train['Alley']. unique()"
   ]
  },
  {
   "cell_type": "code",
   "execution_count": 6,
   "metadata": {
    "colab": {
     "base_uri": "https://localhost:8080/"
    },
    "executionInfo": {
     "elapsed": 180,
     "status": "ok",
     "timestamp": 1624897878411,
     "user": {
      "displayName": "Monali Dambe",
      "photoUrl": "",
      "userId": "09026880642029004944"
     },
     "user_tz": -330
    },
    "id": "OZMmCUztFc1j",
    "outputId": "58495234-87b2-464e-cb06-75d79cecbfe4"
   },
   "outputs": [
    {
     "name": "stderr",
     "output_type": "stream",
     "text": [
      "<ipython-input-6-cecd1294f0b7>:4: FutureWarning: elementwise comparison failed; returning scalar instead, but in the future will perform elementwise comparison\n",
      "  if 'NA' in df_train[col].unique():\n"
     ]
    }
   ],
   "source": [
    "#Create the na dictionary \n",
    "na_dict1= {}\n",
    "for col in df_train.columns:\n",
    "    if 'NA' in df_train[col].unique():\n",
    "       na_dict1[col]=['']"
   ]
  },
  {
   "cell_type": "code",
   "execution_count": 7,
   "metadata": {
    "colab": {
     "base_uri": "https://localhost:8080/"
    },
    "executionInfo": {
     "elapsed": 168,
     "status": "ok",
     "timestamp": 1624897878415,
     "user": {
      "displayName": "Monali Dambe",
      "photoUrl": "",
      "userId": "09026880642029004944"
     },
     "user_tz": -330
    },
    "id": "obV-8rDUH7Qf",
    "outputId": "2a497ca3-7ff3-41a6-bc97-c78ba4364425"
   },
   "outputs": [
    {
     "data": {
      "text/plain": [
       "{'LotFrontage': [''],\n",
       " 'Alley': [''],\n",
       " 'MasVnrType': [''],\n",
       " 'MasVnrArea': [''],\n",
       " 'BsmtQual': [''],\n",
       " 'BsmtCond': [''],\n",
       " 'BsmtExposure': [''],\n",
       " 'BsmtFinType1': [''],\n",
       " 'BsmtFinType2': [''],\n",
       " 'Electrical': [''],\n",
       " 'FireplaceQu': [''],\n",
       " 'GarageType': [''],\n",
       " 'GarageYrBlt': [''],\n",
       " 'GarageFinish': [''],\n",
       " 'GarageQual': [''],\n",
       " 'GarageCond': [''],\n",
       " 'PoolQC': [''],\n",
       " 'Fence': [''],\n",
       " 'MiscFeature': ['']}"
      ]
     },
     "execution_count": 7,
     "metadata": {},
     "output_type": "execute_result"
    }
   ],
   "source": [
    "na_dict1"
   ]
  },
  {
   "cell_type": "code",
   "execution_count": 8,
   "metadata": {
    "executionInfo": {
     "elapsed": 162,
     "status": "ok",
     "timestamp": 1624897878426,
     "user": {
      "displayName": "Monali Dambe",
      "photoUrl": "",
      "userId": "09026880642029004944"
     },
     "user_tz": -330
    },
    "id": "FtCZ1YtXH9oL"
   },
   "outputs": [],
   "source": [
    "na_dict1['BsmtFinType2'].append('NA')\n",
    "na_dict1['Electrical'].append('NA')\n",
    "na_dict1['GarageYrBlt'].append('NA')\n",
    "na_dict1['LotFrontage'].append('NA')\n",
    "na_dict1['MasVnrArea'].append('NA')\n",
    "na_dict1['MasVnrType'].append('NA')"
   ]
  },
  {
   "cell_type": "code",
   "execution_count": 9,
   "metadata": {
    "colab": {
     "base_uri": "https://localhost:8080/"
    },
    "executionInfo": {
     "elapsed": 163,
     "status": "ok",
     "timestamp": 1624897878430,
     "user": {
      "displayName": "Monali Dambe",
      "photoUrl": "",
      "userId": "09026880642029004944"
     },
     "user_tz": -330
    },
    "id": "hOyjyovHJao4",
    "outputId": "1c99b88c-443a-4dbd-ece4-a9591bc6038d"
   },
   "outputs": [
    {
     "data": {
      "text/plain": [
       "{'LotFrontage': ['', 'NA'],\n",
       " 'Alley': [''],\n",
       " 'MasVnrType': ['', 'NA'],\n",
       " 'MasVnrArea': ['', 'NA'],\n",
       " 'BsmtQual': [''],\n",
       " 'BsmtCond': [''],\n",
       " 'BsmtExposure': [''],\n",
       " 'BsmtFinType1': [''],\n",
       " 'BsmtFinType2': ['', 'NA'],\n",
       " 'Electrical': ['', 'NA'],\n",
       " 'FireplaceQu': [''],\n",
       " 'GarageType': [''],\n",
       " 'GarageYrBlt': ['', 'NA'],\n",
       " 'GarageFinish': [''],\n",
       " 'GarageQual': [''],\n",
       " 'GarageCond': [''],\n",
       " 'PoolQC': [''],\n",
       " 'Fence': [''],\n",
       " 'MiscFeature': ['']}"
      ]
     },
     "execution_count": 9,
     "metadata": {},
     "output_type": "execute_result"
    }
   ],
   "source": [
    "na_dict1"
   ]
  },
  {
   "cell_type": "code",
   "execution_count": 10,
   "metadata": {
    "executionInfo": {
     "elapsed": 150,
     "status": "ok",
     "timestamp": 1624897878434,
     "user": {
      "displayName": "Monali Dambe",
      "photoUrl": "",
      "userId": "09026880642029004944"
     },
     "user_tz": -330
    },
    "id": "Dz6iYZ4cQdCI"
   },
   "outputs": [],
   "source": [
    "df_train1=pd.read_csv('../Datasets/house_price_dataset/train.csv',na_values=na_dict1,keep_default_na=False)"
   ]
  },
  {
   "cell_type": "code",
   "execution_count": 11,
   "metadata": {
    "executionInfo": {
     "elapsed": 149,
     "status": "ok",
     "timestamp": 1624897878437,
     "user": {
      "displayName": "Monali Dambe",
      "photoUrl": "",
      "userId": "09026880642029004944"
     },
     "user_tz": -330
    },
    "id": "nX7xmSO7P2A9"
   },
   "outputs": [],
   "source": [
    "df_train1.drop('Id',axis=1,inplace=True)"
   ]
  },
  {
   "cell_type": "code",
   "execution_count": 12,
   "metadata": {
    "colab": {
     "base_uri": "https://localhost:8080/",
     "height": 224
    },
    "executionInfo": {
     "elapsed": 150,
     "status": "ok",
     "timestamp": 1624897878441,
     "user": {
      "displayName": "Monali Dambe",
      "photoUrl": "",
      "userId": "09026880642029004944"
     },
     "user_tz": -330
    },
    "id": "O1PYf_O-K06x",
    "outputId": "52ebb8e1-6259-4a21-f77a-34275f7af4f1"
   },
   "outputs": [
    {
     "data": {
      "text/html": [
       "<div>\n",
       "<style scoped>\n",
       "    .dataframe tbody tr th:only-of-type {\n",
       "        vertical-align: middle;\n",
       "    }\n",
       "\n",
       "    .dataframe tbody tr th {\n",
       "        vertical-align: top;\n",
       "    }\n",
       "\n",
       "    .dataframe thead th {\n",
       "        text-align: right;\n",
       "    }\n",
       "</style>\n",
       "<table border=\"1\" class=\"dataframe\">\n",
       "  <thead>\n",
       "    <tr style=\"text-align: right;\">\n",
       "      <th></th>\n",
       "      <th>MSSubClass</th>\n",
       "      <th>MSZoning</th>\n",
       "      <th>LotFrontage</th>\n",
       "      <th>LotArea</th>\n",
       "      <th>Street</th>\n",
       "      <th>Alley</th>\n",
       "      <th>LotShape</th>\n",
       "      <th>LandContour</th>\n",
       "      <th>Utilities</th>\n",
       "      <th>LotConfig</th>\n",
       "      <th>...</th>\n",
       "      <th>PoolArea</th>\n",
       "      <th>PoolQC</th>\n",
       "      <th>Fence</th>\n",
       "      <th>MiscFeature</th>\n",
       "      <th>MiscVal</th>\n",
       "      <th>MoSold</th>\n",
       "      <th>YrSold</th>\n",
       "      <th>SaleType</th>\n",
       "      <th>SaleCondition</th>\n",
       "      <th>SalePrice</th>\n",
       "    </tr>\n",
       "  </thead>\n",
       "  <tbody>\n",
       "    <tr>\n",
       "      <th>0</th>\n",
       "      <td>60</td>\n",
       "      <td>RL</td>\n",
       "      <td>65.0</td>\n",
       "      <td>8450</td>\n",
       "      <td>Pave</td>\n",
       "      <td>NA</td>\n",
       "      <td>Reg</td>\n",
       "      <td>Lvl</td>\n",
       "      <td>AllPub</td>\n",
       "      <td>Inside</td>\n",
       "      <td>...</td>\n",
       "      <td>0</td>\n",
       "      <td>NA</td>\n",
       "      <td>NA</td>\n",
       "      <td>NA</td>\n",
       "      <td>0</td>\n",
       "      <td>2</td>\n",
       "      <td>2008</td>\n",
       "      <td>WD</td>\n",
       "      <td>Normal</td>\n",
       "      <td>208500</td>\n",
       "    </tr>\n",
       "    <tr>\n",
       "      <th>1</th>\n",
       "      <td>20</td>\n",
       "      <td>RL</td>\n",
       "      <td>80.0</td>\n",
       "      <td>9600</td>\n",
       "      <td>Pave</td>\n",
       "      <td>NA</td>\n",
       "      <td>Reg</td>\n",
       "      <td>Lvl</td>\n",
       "      <td>AllPub</td>\n",
       "      <td>FR2</td>\n",
       "      <td>...</td>\n",
       "      <td>0</td>\n",
       "      <td>NA</td>\n",
       "      <td>NA</td>\n",
       "      <td>NA</td>\n",
       "      <td>0</td>\n",
       "      <td>5</td>\n",
       "      <td>2007</td>\n",
       "      <td>WD</td>\n",
       "      <td>Normal</td>\n",
       "      <td>181500</td>\n",
       "    </tr>\n",
       "    <tr>\n",
       "      <th>2</th>\n",
       "      <td>60</td>\n",
       "      <td>RL</td>\n",
       "      <td>68.0</td>\n",
       "      <td>11250</td>\n",
       "      <td>Pave</td>\n",
       "      <td>NA</td>\n",
       "      <td>IR1</td>\n",
       "      <td>Lvl</td>\n",
       "      <td>AllPub</td>\n",
       "      <td>Inside</td>\n",
       "      <td>...</td>\n",
       "      <td>0</td>\n",
       "      <td>NA</td>\n",
       "      <td>NA</td>\n",
       "      <td>NA</td>\n",
       "      <td>0</td>\n",
       "      <td>9</td>\n",
       "      <td>2008</td>\n",
       "      <td>WD</td>\n",
       "      <td>Normal</td>\n",
       "      <td>223500</td>\n",
       "    </tr>\n",
       "    <tr>\n",
       "      <th>3</th>\n",
       "      <td>70</td>\n",
       "      <td>RL</td>\n",
       "      <td>60.0</td>\n",
       "      <td>9550</td>\n",
       "      <td>Pave</td>\n",
       "      <td>NA</td>\n",
       "      <td>IR1</td>\n",
       "      <td>Lvl</td>\n",
       "      <td>AllPub</td>\n",
       "      <td>Corner</td>\n",
       "      <td>...</td>\n",
       "      <td>0</td>\n",
       "      <td>NA</td>\n",
       "      <td>NA</td>\n",
       "      <td>NA</td>\n",
       "      <td>0</td>\n",
       "      <td>2</td>\n",
       "      <td>2006</td>\n",
       "      <td>WD</td>\n",
       "      <td>Abnorml</td>\n",
       "      <td>140000</td>\n",
       "    </tr>\n",
       "    <tr>\n",
       "      <th>4</th>\n",
       "      <td>60</td>\n",
       "      <td>RL</td>\n",
       "      <td>84.0</td>\n",
       "      <td>14260</td>\n",
       "      <td>Pave</td>\n",
       "      <td>NA</td>\n",
       "      <td>IR1</td>\n",
       "      <td>Lvl</td>\n",
       "      <td>AllPub</td>\n",
       "      <td>FR2</td>\n",
       "      <td>...</td>\n",
       "      <td>0</td>\n",
       "      <td>NA</td>\n",
       "      <td>NA</td>\n",
       "      <td>NA</td>\n",
       "      <td>0</td>\n",
       "      <td>12</td>\n",
       "      <td>2008</td>\n",
       "      <td>WD</td>\n",
       "      <td>Normal</td>\n",
       "      <td>250000</td>\n",
       "    </tr>\n",
       "  </tbody>\n",
       "</table>\n",
       "<p>5 rows × 80 columns</p>\n",
       "</div>"
      ],
      "text/plain": [
       "   MSSubClass MSZoning  LotFrontage  LotArea Street Alley LotShape  \\\n",
       "0          60       RL         65.0     8450   Pave    NA      Reg   \n",
       "1          20       RL         80.0     9600   Pave    NA      Reg   \n",
       "2          60       RL         68.0    11250   Pave    NA      IR1   \n",
       "3          70       RL         60.0     9550   Pave    NA      IR1   \n",
       "4          60       RL         84.0    14260   Pave    NA      IR1   \n",
       "\n",
       "  LandContour Utilities LotConfig  ... PoolArea PoolQC Fence MiscFeature  \\\n",
       "0         Lvl    AllPub    Inside  ...        0     NA    NA          NA   \n",
       "1         Lvl    AllPub       FR2  ...        0     NA    NA          NA   \n",
       "2         Lvl    AllPub    Inside  ...        0     NA    NA          NA   \n",
       "3         Lvl    AllPub    Corner  ...        0     NA    NA          NA   \n",
       "4         Lvl    AllPub       FR2  ...        0     NA    NA          NA   \n",
       "\n",
       "  MiscVal MoSold  YrSold  SaleType  SaleCondition  SalePrice  \n",
       "0       0      2    2008        WD         Normal     208500  \n",
       "1       0      5    2007        WD         Normal     181500  \n",
       "2       0      9    2008        WD         Normal     223500  \n",
       "3       0      2    2006        WD        Abnorml     140000  \n",
       "4       0     12    2008        WD         Normal     250000  \n",
       "\n",
       "[5 rows x 80 columns]"
      ]
     },
     "execution_count": 12,
     "metadata": {},
     "output_type": "execute_result"
    }
   ],
   "source": [
    "df_train1.head()"
   ]
  },
  {
   "cell_type": "code",
   "execution_count": 13,
   "metadata": {
    "executionInfo": {
     "elapsed": 145,
     "status": "ok",
     "timestamp": 1624897878444,
     "user": {
      "displayName": "Monali Dambe",
      "photoUrl": "",
      "userId": "09026880642029004944"
     },
     "user_tz": -330
    },
    "id": "4lSB_o-YQuIF"
   },
   "outputs": [],
   "source": [
    "#list of object columns\n",
    "list_obj_cols_tr=list(df_train1.select_dtypes(include='object').columns)\n",
    "#list of numerical columns\n",
    "list_num_cols_tr=list(df_train1.select_dtypes(exclude='object').columns)"
   ]
  },
  {
   "cell_type": "code",
   "execution_count": 14,
   "metadata": {
    "executionInfo": {
     "elapsed": 145,
     "status": "ok",
     "timestamp": 1624897878447,
     "user": {
      "displayName": "Monali Dambe",
      "photoUrl": "",
      "userId": "09026880642029004944"
     },
     "user_tz": -330
    },
    "id": "Euyk1I0xYFmd"
   },
   "outputs": [],
   "source": [
    "list_num_cols_tr.remove('SalePrice')"
   ]
  },
  {
   "cell_type": "code",
   "execution_count": 15,
   "metadata": {
    "colab": {
     "base_uri": "https://localhost:8080/"
    },
    "executionInfo": {
     "elapsed": 145,
     "status": "ok",
     "timestamp": 1624897878450,
     "user": {
      "displayName": "Monali Dambe",
      "photoUrl": "",
      "userId": "09026880642029004944"
     },
     "user_tz": -330
    },
    "id": "6XSx-GzrRMTI",
    "outputId": "a8ef42ab-f0ff-40a8-8838-90a5b6332c76"
   },
   "outputs": [
    {
     "name": "stdout",
     "output_type": "stream",
     "text": [
      "MSZoning 5\n",
      "Street 2\n",
      "Alley 3\n",
      "LotShape 4\n",
      "LandContour 4\n",
      "Utilities 2\n",
      "LotConfig 5\n",
      "LandSlope 3\n",
      "Neighborhood 25\n",
      "Condition1 9\n",
      "Condition2 8\n",
      "BldgType 5\n",
      "HouseStyle 8\n",
      "RoofStyle 6\n",
      "RoofMatl 8\n",
      "Exterior1st 15\n",
      "Exterior2nd 16\n",
      "MasVnrType 4\n",
      "ExterQual 4\n",
      "ExterCond 5\n",
      "Foundation 6\n",
      "BsmtQual 5\n",
      "BsmtCond 5\n",
      "BsmtExposure 5\n",
      "BsmtFinType1 7\n",
      "BsmtFinType2 6\n",
      "Heating 6\n",
      "HeatingQC 5\n",
      "CentralAir 2\n",
      "Electrical 5\n",
      "KitchenQual 4\n",
      "Functional 7\n",
      "FireplaceQu 6\n",
      "GarageType 7\n",
      "GarageFinish 4\n",
      "GarageQual 6\n",
      "GarageCond 6\n",
      "PavedDrive 3\n",
      "PoolQC 4\n",
      "Fence 5\n",
      "MiscFeature 5\n",
      "SaleType 9\n",
      "SaleCondition 6\n"
     ]
    }
   ],
   "source": [
    "for col in list_obj_cols_tr:\n",
    "    print (col,df_train1[col].nunique())"
   ]
  },
  {
   "cell_type": "code",
   "execution_count": 16,
   "metadata": {
    "colab": {
     "base_uri": "https://localhost:8080/",
     "height": 439
    },
    "executionInfo": {
     "elapsed": 1199,
     "status": "ok",
     "timestamp": 1624897879524,
     "user": {
      "displayName": "Monali Dambe",
      "photoUrl": "",
      "userId": "09026880642029004944"
     },
     "user_tz": -330
    },
    "id": "pf_n4J2mf8q3",
    "outputId": "ea170b97-fb5c-4d07-cab2-97e3532f04fb"
   },
   "outputs": [
    {
     "data": {
      "text/html": [
       "<div>\n",
       "<style scoped>\n",
       "    .dataframe tbody tr th:only-of-type {\n",
       "        vertical-align: middle;\n",
       "    }\n",
       "\n",
       "    .dataframe tbody tr th {\n",
       "        vertical-align: top;\n",
       "    }\n",
       "\n",
       "    .dataframe thead th {\n",
       "        text-align: right;\n",
       "    }\n",
       "</style>\n",
       "<table border=\"1\" class=\"dataframe\">\n",
       "  <thead>\n",
       "    <tr style=\"text-align: right;\">\n",
       "      <th></th>\n",
       "      <th>MSSubClass</th>\n",
       "      <th>MSZoning</th>\n",
       "      <th>LotFrontage</th>\n",
       "      <th>LotArea</th>\n",
       "      <th>Street</th>\n",
       "      <th>Alley</th>\n",
       "      <th>LotShape</th>\n",
       "      <th>LandContour</th>\n",
       "      <th>Utilities</th>\n",
       "      <th>LotConfig</th>\n",
       "      <th>...</th>\n",
       "      <th>PoolArea</th>\n",
       "      <th>PoolQC</th>\n",
       "      <th>Fence</th>\n",
       "      <th>MiscFeature</th>\n",
       "      <th>MiscVal</th>\n",
       "      <th>MoSold</th>\n",
       "      <th>YrSold</th>\n",
       "      <th>SaleType</th>\n",
       "      <th>SaleCondition</th>\n",
       "      <th>SalePrice</th>\n",
       "    </tr>\n",
       "  </thead>\n",
       "  <tbody>\n",
       "    <tr>\n",
       "      <th>0</th>\n",
       "      <td>60</td>\n",
       "      <td>RL</td>\n",
       "      <td>65.0</td>\n",
       "      <td>8450</td>\n",
       "      <td>Pave</td>\n",
       "      <td>NA</td>\n",
       "      <td>Reg</td>\n",
       "      <td>Lvl</td>\n",
       "      <td>AllPub</td>\n",
       "      <td>Inside</td>\n",
       "      <td>...</td>\n",
       "      <td>0</td>\n",
       "      <td>NA</td>\n",
       "      <td>NA</td>\n",
       "      <td>NA</td>\n",
       "      <td>0</td>\n",
       "      <td>2</td>\n",
       "      <td>2008</td>\n",
       "      <td>WD</td>\n",
       "      <td>Normal</td>\n",
       "      <td>208500</td>\n",
       "    </tr>\n",
       "    <tr>\n",
       "      <th>1</th>\n",
       "      <td>20</td>\n",
       "      <td>RL</td>\n",
       "      <td>80.0</td>\n",
       "      <td>9600</td>\n",
       "      <td>Pave</td>\n",
       "      <td>NA</td>\n",
       "      <td>Reg</td>\n",
       "      <td>Lvl</td>\n",
       "      <td>AllPub</td>\n",
       "      <td>FR2</td>\n",
       "      <td>...</td>\n",
       "      <td>0</td>\n",
       "      <td>NA</td>\n",
       "      <td>NA</td>\n",
       "      <td>NA</td>\n",
       "      <td>0</td>\n",
       "      <td>5</td>\n",
       "      <td>2007</td>\n",
       "      <td>WD</td>\n",
       "      <td>Normal</td>\n",
       "      <td>181500</td>\n",
       "    </tr>\n",
       "    <tr>\n",
       "      <th>2</th>\n",
       "      <td>60</td>\n",
       "      <td>RL</td>\n",
       "      <td>68.0</td>\n",
       "      <td>11250</td>\n",
       "      <td>Pave</td>\n",
       "      <td>NA</td>\n",
       "      <td>IR1</td>\n",
       "      <td>Lvl</td>\n",
       "      <td>AllPub</td>\n",
       "      <td>Inside</td>\n",
       "      <td>...</td>\n",
       "      <td>0</td>\n",
       "      <td>NA</td>\n",
       "      <td>NA</td>\n",
       "      <td>NA</td>\n",
       "      <td>0</td>\n",
       "      <td>9</td>\n",
       "      <td>2008</td>\n",
       "      <td>WD</td>\n",
       "      <td>Normal</td>\n",
       "      <td>223500</td>\n",
       "    </tr>\n",
       "    <tr>\n",
       "      <th>3</th>\n",
       "      <td>70</td>\n",
       "      <td>RL</td>\n",
       "      <td>60.0</td>\n",
       "      <td>9550</td>\n",
       "      <td>Pave</td>\n",
       "      <td>NA</td>\n",
       "      <td>IR1</td>\n",
       "      <td>Lvl</td>\n",
       "      <td>AllPub</td>\n",
       "      <td>Corner</td>\n",
       "      <td>...</td>\n",
       "      <td>0</td>\n",
       "      <td>NA</td>\n",
       "      <td>NA</td>\n",
       "      <td>NA</td>\n",
       "      <td>0</td>\n",
       "      <td>2</td>\n",
       "      <td>2006</td>\n",
       "      <td>WD</td>\n",
       "      <td>Abnorml</td>\n",
       "      <td>140000</td>\n",
       "    </tr>\n",
       "    <tr>\n",
       "      <th>4</th>\n",
       "      <td>60</td>\n",
       "      <td>RL</td>\n",
       "      <td>84.0</td>\n",
       "      <td>14260</td>\n",
       "      <td>Pave</td>\n",
       "      <td>NA</td>\n",
       "      <td>IR1</td>\n",
       "      <td>Lvl</td>\n",
       "      <td>AllPub</td>\n",
       "      <td>FR2</td>\n",
       "      <td>...</td>\n",
       "      <td>0</td>\n",
       "      <td>NA</td>\n",
       "      <td>NA</td>\n",
       "      <td>NA</td>\n",
       "      <td>0</td>\n",
       "      <td>12</td>\n",
       "      <td>2008</td>\n",
       "      <td>WD</td>\n",
       "      <td>Normal</td>\n",
       "      <td>250000</td>\n",
       "    </tr>\n",
       "    <tr>\n",
       "      <th>...</th>\n",
       "      <td>...</td>\n",
       "      <td>...</td>\n",
       "      <td>...</td>\n",
       "      <td>...</td>\n",
       "      <td>...</td>\n",
       "      <td>...</td>\n",
       "      <td>...</td>\n",
       "      <td>...</td>\n",
       "      <td>...</td>\n",
       "      <td>...</td>\n",
       "      <td>...</td>\n",
       "      <td>...</td>\n",
       "      <td>...</td>\n",
       "      <td>...</td>\n",
       "      <td>...</td>\n",
       "      <td>...</td>\n",
       "      <td>...</td>\n",
       "      <td>...</td>\n",
       "      <td>...</td>\n",
       "      <td>...</td>\n",
       "      <td>...</td>\n",
       "    </tr>\n",
       "    <tr>\n",
       "      <th>1455</th>\n",
       "      <td>60</td>\n",
       "      <td>RL</td>\n",
       "      <td>62.0</td>\n",
       "      <td>7917</td>\n",
       "      <td>Pave</td>\n",
       "      <td>NA</td>\n",
       "      <td>Reg</td>\n",
       "      <td>Lvl</td>\n",
       "      <td>AllPub</td>\n",
       "      <td>Inside</td>\n",
       "      <td>...</td>\n",
       "      <td>0</td>\n",
       "      <td>NA</td>\n",
       "      <td>NA</td>\n",
       "      <td>NA</td>\n",
       "      <td>0</td>\n",
       "      <td>8</td>\n",
       "      <td>2007</td>\n",
       "      <td>WD</td>\n",
       "      <td>Normal</td>\n",
       "      <td>175000</td>\n",
       "    </tr>\n",
       "    <tr>\n",
       "      <th>1456</th>\n",
       "      <td>20</td>\n",
       "      <td>RL</td>\n",
       "      <td>85.0</td>\n",
       "      <td>13175</td>\n",
       "      <td>Pave</td>\n",
       "      <td>NA</td>\n",
       "      <td>Reg</td>\n",
       "      <td>Lvl</td>\n",
       "      <td>AllPub</td>\n",
       "      <td>Inside</td>\n",
       "      <td>...</td>\n",
       "      <td>0</td>\n",
       "      <td>NA</td>\n",
       "      <td>MnPrv</td>\n",
       "      <td>NA</td>\n",
       "      <td>0</td>\n",
       "      <td>2</td>\n",
       "      <td>2010</td>\n",
       "      <td>WD</td>\n",
       "      <td>Normal</td>\n",
       "      <td>210000</td>\n",
       "    </tr>\n",
       "    <tr>\n",
       "      <th>1457</th>\n",
       "      <td>70</td>\n",
       "      <td>RL</td>\n",
       "      <td>66.0</td>\n",
       "      <td>9042</td>\n",
       "      <td>Pave</td>\n",
       "      <td>NA</td>\n",
       "      <td>Reg</td>\n",
       "      <td>Lvl</td>\n",
       "      <td>AllPub</td>\n",
       "      <td>Inside</td>\n",
       "      <td>...</td>\n",
       "      <td>0</td>\n",
       "      <td>NA</td>\n",
       "      <td>GdPrv</td>\n",
       "      <td>Shed</td>\n",
       "      <td>2500</td>\n",
       "      <td>5</td>\n",
       "      <td>2010</td>\n",
       "      <td>WD</td>\n",
       "      <td>Normal</td>\n",
       "      <td>266500</td>\n",
       "    </tr>\n",
       "    <tr>\n",
       "      <th>1458</th>\n",
       "      <td>20</td>\n",
       "      <td>RL</td>\n",
       "      <td>68.0</td>\n",
       "      <td>9717</td>\n",
       "      <td>Pave</td>\n",
       "      <td>NA</td>\n",
       "      <td>Reg</td>\n",
       "      <td>Lvl</td>\n",
       "      <td>AllPub</td>\n",
       "      <td>Inside</td>\n",
       "      <td>...</td>\n",
       "      <td>0</td>\n",
       "      <td>NA</td>\n",
       "      <td>NA</td>\n",
       "      <td>NA</td>\n",
       "      <td>0</td>\n",
       "      <td>4</td>\n",
       "      <td>2010</td>\n",
       "      <td>WD</td>\n",
       "      <td>Normal</td>\n",
       "      <td>142125</td>\n",
       "    </tr>\n",
       "    <tr>\n",
       "      <th>1459</th>\n",
       "      <td>20</td>\n",
       "      <td>RL</td>\n",
       "      <td>75.0</td>\n",
       "      <td>9937</td>\n",
       "      <td>Pave</td>\n",
       "      <td>NA</td>\n",
       "      <td>Reg</td>\n",
       "      <td>Lvl</td>\n",
       "      <td>AllPub</td>\n",
       "      <td>Inside</td>\n",
       "      <td>...</td>\n",
       "      <td>0</td>\n",
       "      <td>NA</td>\n",
       "      <td>NA</td>\n",
       "      <td>NA</td>\n",
       "      <td>0</td>\n",
       "      <td>6</td>\n",
       "      <td>2008</td>\n",
       "      <td>WD</td>\n",
       "      <td>Normal</td>\n",
       "      <td>147500</td>\n",
       "    </tr>\n",
       "  </tbody>\n",
       "</table>\n",
       "<p>1460 rows × 80 columns</p>\n",
       "</div>"
      ],
      "text/plain": [
       "      MSSubClass MSZoning  LotFrontage  LotArea Street Alley LotShape  \\\n",
       "0             60       RL         65.0     8450   Pave    NA      Reg   \n",
       "1             20       RL         80.0     9600   Pave    NA      Reg   \n",
       "2             60       RL         68.0    11250   Pave    NA      IR1   \n",
       "3             70       RL         60.0     9550   Pave    NA      IR1   \n",
       "4             60       RL         84.0    14260   Pave    NA      IR1   \n",
       "...          ...      ...          ...      ...    ...   ...      ...   \n",
       "1455          60       RL         62.0     7917   Pave    NA      Reg   \n",
       "1456          20       RL         85.0    13175   Pave    NA      Reg   \n",
       "1457          70       RL         66.0     9042   Pave    NA      Reg   \n",
       "1458          20       RL         68.0     9717   Pave    NA      Reg   \n",
       "1459          20       RL         75.0     9937   Pave    NA      Reg   \n",
       "\n",
       "     LandContour Utilities LotConfig  ... PoolArea PoolQC  Fence MiscFeature  \\\n",
       "0            Lvl    AllPub    Inside  ...        0     NA     NA          NA   \n",
       "1            Lvl    AllPub       FR2  ...        0     NA     NA          NA   \n",
       "2            Lvl    AllPub    Inside  ...        0     NA     NA          NA   \n",
       "3            Lvl    AllPub    Corner  ...        0     NA     NA          NA   \n",
       "4            Lvl    AllPub       FR2  ...        0     NA     NA          NA   \n",
       "...          ...       ...       ...  ...      ...    ...    ...         ...   \n",
       "1455         Lvl    AllPub    Inside  ...        0     NA     NA          NA   \n",
       "1456         Lvl    AllPub    Inside  ...        0     NA  MnPrv          NA   \n",
       "1457         Lvl    AllPub    Inside  ...        0     NA  GdPrv        Shed   \n",
       "1458         Lvl    AllPub    Inside  ...        0     NA     NA          NA   \n",
       "1459         Lvl    AllPub    Inside  ...        0     NA     NA          NA   \n",
       "\n",
       "     MiscVal MoSold  YrSold  SaleType  SaleCondition  SalePrice  \n",
       "0          0      2    2008        WD         Normal     208500  \n",
       "1          0      5    2007        WD         Normal     181500  \n",
       "2          0      9    2008        WD         Normal     223500  \n",
       "3          0      2    2006        WD        Abnorml     140000  \n",
       "4          0     12    2008        WD         Normal     250000  \n",
       "...      ...    ...     ...       ...            ...        ...  \n",
       "1455       0      8    2007        WD         Normal     175000  \n",
       "1456       0      2    2010        WD         Normal     210000  \n",
       "1457    2500      5    2010        WD         Normal     266500  \n",
       "1458       0      4    2010        WD         Normal     142125  \n",
       "1459       0      6    2008        WD         Normal     147500  \n",
       "\n",
       "[1460 rows x 80 columns]"
      ]
     },
     "execution_count": 16,
     "metadata": {},
     "output_type": "execute_result"
    }
   ],
   "source": [
    "df_train1"
   ]
  },
  {
   "cell_type": "code",
   "execution_count": 17,
   "metadata": {
    "colab": {
     "base_uri": "https://localhost:8080/"
    },
    "executionInfo": {
     "elapsed": 308,
     "status": "ok",
     "timestamp": 1624897879529,
     "user": {
      "displayName": "Monali Dambe",
      "photoUrl": "",
      "userId": "09026880642029004944"
     },
     "user_tz": -330
    },
    "id": "g7aa8ZMNJdVL",
    "outputId": "6d094fd2-46b1-48e3-b636-166dc8784989"
   },
   "outputs": [
    {
     "name": "stderr",
     "output_type": "stream",
     "text": [
      "<ipython-input-17-c82944de0ab9>:3: FutureWarning: elementwise comparison failed; returning scalar instead, but in the future will perform elementwise comparison\n",
      "  if 'NA' in df_test[col].unique():\n"
     ]
    }
   ],
   "source": [
    " na_dict2= {}\n",
    "for col in df_test.columns:\n",
    "    if 'NA' in df_test[col].unique():\n",
    "       na_dict2[col]=['']"
   ]
  },
  {
   "cell_type": "code",
   "execution_count": 18,
   "metadata": {
    "colab": {
     "base_uri": "https://localhost:8080/"
    },
    "executionInfo": {
     "elapsed": 270,
     "status": "ok",
     "timestamp": 1624897879534,
     "user": {
      "displayName": "Monali Dambe",
      "photoUrl": "",
      "userId": "09026880642029004944"
     },
     "user_tz": -330
    },
    "id": "O67V28r9JlWG",
    "outputId": "43b77b39-0077-4fa0-a1c0-922080c20246"
   },
   "outputs": [
    {
     "data": {
      "text/plain": [
       "{'MSZoning': [''],\n",
       " 'LotFrontage': [''],\n",
       " 'Alley': [''],\n",
       " 'Utilities': [''],\n",
       " 'Exterior1st': [''],\n",
       " 'Exterior2nd': [''],\n",
       " 'MasVnrType': [''],\n",
       " 'MasVnrArea': [''],\n",
       " 'BsmtQual': [''],\n",
       " 'BsmtCond': [''],\n",
       " 'BsmtExposure': [''],\n",
       " 'BsmtFinType1': [''],\n",
       " 'BsmtFinSF1': [''],\n",
       " 'BsmtFinType2': [''],\n",
       " 'BsmtFinSF2': [''],\n",
       " 'BsmtUnfSF': [''],\n",
       " 'TotalBsmtSF': [''],\n",
       " 'BsmtFullBath': [''],\n",
       " 'BsmtHalfBath': [''],\n",
       " 'KitchenQual': [''],\n",
       " 'Functional': [''],\n",
       " 'FireplaceQu': [''],\n",
       " 'GarageType': [''],\n",
       " 'GarageYrBlt': [''],\n",
       " 'GarageFinish': [''],\n",
       " 'GarageCars': [''],\n",
       " 'GarageArea': [''],\n",
       " 'GarageQual': [''],\n",
       " 'GarageCond': [''],\n",
       " 'PoolQC': [''],\n",
       " 'Fence': [''],\n",
       " 'MiscFeature': [''],\n",
       " 'SaleType': ['']}"
      ]
     },
     "execution_count": 18,
     "metadata": {},
     "output_type": "execute_result"
    }
   ],
   "source": [
    "na_dict2"
   ]
  },
  {
   "cell_type": "code",
   "execution_count": 19,
   "metadata": {
    "executionInfo": {
     "elapsed": 258,
     "status": "ok",
     "timestamp": 1624897879539,
     "user": {
      "displayName": "Monali Dambe",
      "photoUrl": "",
      "userId": "09026880642029004944"
     },
     "user_tz": -330
    },
    "id": "EzWSDDv1JoFf"
   },
   "outputs": [],
   "source": [
    "na_dict2['BsmtFinSF1'].append('NA')\n",
    "na_dict2['BsmtFinSF2'].append('NA')\n",
    "na_dict2['BsmtFinType2'].append('NA')\n",
    "na_dict2['BsmtFullBath']. append ('NA')\n",
    "na_dict2['BsmtHalfBath'].append('NA')\n",
    "na_dict2['BsmtUnfSF'].append('NA')\n",
    "na_dict2['Exterior1st'].append('NA')\n",
    "na_dict2['Exterior2nd'].append('NA')\n",
    "na_dict2['Functional'].append('NA')\n",
    "na_dict2['GarageArea'].append('NA')\n",
    "na_dict2['GarageCars'].append('NA')\n",
    "na_dict2['GarageYrBlt'].append('NA')\n",
    "na_dict2['KitchenQual'].append('NA')\n",
    "na_dict2['LotFrontage'].append('NA')\n",
    "na_dict2['MSZoning'].append('NA')\n",
    "na_dict2['MasVnrArea'].append('NA')\n",
    "na_dict2['SaleType'].append('NA')\n",
    "na_dict2['TotalBsmtSF'].append('NA')\n",
    "na_dict2['Utilities'].append('NA')"
   ]
  },
  {
   "cell_type": "code",
   "execution_count": 20,
   "metadata": {
    "colab": {
     "base_uri": "https://localhost:8080/"
    },
    "executionInfo": {
     "elapsed": 259,
     "status": "ok",
     "timestamp": 1624897879543,
     "user": {
      "displayName": "Monali Dambe",
      "photoUrl": "",
      "userId": "09026880642029004944"
     },
     "user_tz": -330
    },
    "id": "AhAcKDNVMmd0",
    "outputId": "01ed521c-9282-4c1c-dbe9-d59b56756855"
   },
   "outputs": [
    {
     "data": {
      "text/plain": [
       "{'MSZoning': ['', 'NA'],\n",
       " 'LotFrontage': ['', 'NA'],\n",
       " 'Alley': [''],\n",
       " 'Utilities': ['', 'NA'],\n",
       " 'Exterior1st': ['', 'NA'],\n",
       " 'Exterior2nd': ['', 'NA'],\n",
       " 'MasVnrType': [''],\n",
       " 'MasVnrArea': ['', 'NA'],\n",
       " 'BsmtQual': [''],\n",
       " 'BsmtCond': [''],\n",
       " 'BsmtExposure': [''],\n",
       " 'BsmtFinType1': [''],\n",
       " 'BsmtFinSF1': ['', 'NA'],\n",
       " 'BsmtFinType2': ['', 'NA'],\n",
       " 'BsmtFinSF2': ['', 'NA'],\n",
       " 'BsmtUnfSF': ['', 'NA'],\n",
       " 'TotalBsmtSF': ['', 'NA'],\n",
       " 'BsmtFullBath': ['', 'NA'],\n",
       " 'BsmtHalfBath': ['', 'NA'],\n",
       " 'KitchenQual': ['', 'NA'],\n",
       " 'Functional': ['', 'NA'],\n",
       " 'FireplaceQu': [''],\n",
       " 'GarageType': [''],\n",
       " 'GarageYrBlt': ['', 'NA'],\n",
       " 'GarageFinish': [''],\n",
       " 'GarageCars': ['', 'NA'],\n",
       " 'GarageArea': ['', 'NA'],\n",
       " 'GarageQual': [''],\n",
       " 'GarageCond': [''],\n",
       " 'PoolQC': [''],\n",
       " 'Fence': [''],\n",
       " 'MiscFeature': [''],\n",
       " 'SaleType': ['', 'NA']}"
      ]
     },
     "execution_count": 20,
     "metadata": {},
     "output_type": "execute_result"
    }
   ],
   "source": [
    "na_dict2"
   ]
  },
  {
   "cell_type": "code",
   "execution_count": 21,
   "metadata": {
    "executionInfo": {
     "elapsed": 244,
     "status": "ok",
     "timestamp": 1624897879547,
     "user": {
      "displayName": "Monali Dambe",
      "photoUrl": "",
      "userId": "09026880642029004944"
     },
     "user_tz": -330
    },
    "id": "tLYDlE8nTk35"
   },
   "outputs": [],
   "source": [
    "df_test1=pd.read_csv('../Datasets/house_price_dataset/test.csv',na_values=na_dict2,keep_default_na=False)"
   ]
  },
  {
   "cell_type": "code",
   "execution_count": 22,
   "metadata": {
    "executionInfo": {
     "elapsed": 246,
     "status": "ok",
     "timestamp": 1624897879552,
     "user": {
      "displayName": "Monali Dambe",
      "photoUrl": "",
      "userId": "09026880642029004944"
     },
     "user_tz": -330
    },
    "id": "z-ldlP4hQcht"
   },
   "outputs": [],
   "source": [
    "test_Id =df_test1.Id\n",
    "df_test1.drop('Id',axis=1,inplace=True)"
   ]
  },
  {
   "cell_type": "code",
   "execution_count": 23,
   "metadata": {
    "executionInfo": {
     "elapsed": 246,
     "status": "ok",
     "timestamp": 1624897879556,
     "user": {
      "displayName": "Monali Dambe",
      "photoUrl": "",
      "userId": "09026880642029004944"
     },
     "user_tz": -330
    },
    "id": "yAsiML-aT12b"
   },
   "outputs": [],
   "source": [
    "#list of object columns\n",
    "list_obj_cols_te=list(df_test1.select_dtypes(include='object').columns)\n",
    "#list of numerical columns\n",
    "list_num_cols_te=list(df_test1.select_dtypes(exclude='object').columns)"
   ]
  },
  {
   "cell_type": "code",
   "execution_count": 24,
   "metadata": {
    "colab": {
     "base_uri": "https://localhost:8080/"
    },
    "executionInfo": {
     "elapsed": 247,
     "status": "ok",
     "timestamp": 1624897879560,
     "user": {
      "displayName": "Monali Dambe",
      "photoUrl": "",
      "userId": "09026880642029004944"
     },
     "user_tz": -330
    },
    "id": "vCz1Pt5MOnpP",
    "outputId": "d65b3913-0c98-4bc4-87a0-ca0ab78ee490"
   },
   "outputs": [
    {
     "name": "stdout",
     "output_type": "stream",
     "text": [
      "MSZoning 5\n",
      "Street 2\n",
      "Alley 3\n",
      "LotShape 4\n",
      "LandContour 4\n",
      "Utilities 1\n",
      "LotConfig 5\n",
      "LandSlope 3\n",
      "Neighborhood 25\n",
      "Condition1 9\n",
      "Condition2 5\n",
      "BldgType 5\n",
      "HouseStyle 7\n",
      "RoofStyle 6\n",
      "RoofMatl 4\n",
      "Exterior1st 13\n",
      "Exterior2nd 15\n",
      "MasVnrType 5\n",
      "ExterQual 4\n",
      "ExterCond 5\n",
      "Foundation 6\n",
      "BsmtQual 5\n",
      "BsmtCond 5\n",
      "BsmtExposure 5\n",
      "BsmtFinType1 7\n",
      "BsmtFinType2 6\n",
      "Heating 4\n",
      "HeatingQC 5\n",
      "CentralAir 2\n",
      "Electrical 4\n",
      "KitchenQual 4\n",
      "Functional 7\n",
      "FireplaceQu 6\n",
      "GarageType 7\n",
      "GarageFinish 4\n",
      "GarageQual 5\n",
      "GarageCond 6\n",
      "PavedDrive 3\n",
      "PoolQC 3\n",
      "Fence 5\n",
      "MiscFeature 4\n",
      "SaleType 9\n",
      "SaleCondition 6\n"
     ]
    }
   ],
   "source": [
    "for col in list_obj_cols_te:\n",
    "    print (col,df_test1[col].nunique())"
   ]
  },
  {
   "cell_type": "code",
   "execution_count": 25,
   "metadata": {
    "executionInfo": {
     "elapsed": 233,
     "status": "ok",
     "timestamp": 1624897879565,
     "user": {
      "displayName": "Monali Dambe",
      "photoUrl": "",
      "userId": "09026880642029004944"
     },
     "user_tz": -330
    },
    "id": "dfrH238rS2JG"
   },
   "outputs": [],
   "source": [
    "import seaborn as sns"
   ]
  },
  {
   "cell_type": "code",
   "execution_count": 26,
   "metadata": {
    "executionInfo": {
     "elapsed": 234,
     "status": "ok",
     "timestamp": 1624897879569,
     "user": {
      "displayName": "Monali Dambe",
      "photoUrl": "",
      "userId": "09026880642029004944"
     },
     "user_tz": -330
    },
    "id": "oVx01x-SPFlI"
   },
   "outputs": [],
   "source": [
    "#define function for fill na values\n",
    "def fillna_all (df):\n",
    "    for col in list_obj_cols_tr:\n",
    "        df[col].fillna(value=df[col].mode()[0], inplace=True)\n",
    "    for col in list_num_cols_tr:               \n",
    "        df[col].fillna(value=df[col].median(),inplace=True)\n",
    "    for col in list_obj_cols_te:\n",
    "        df[col].fillna(value=df[col].mode()[0], inplace=True)\n",
    "    for col in list_num_cols_te:               \n",
    "        df[col].fillna(value=df[col].median(),inplace=True)"
   ]
  },
  {
   "cell_type": "code",
   "execution_count": 27,
   "metadata": {
    "executionInfo": {
     "elapsed": 236,
     "status": "ok",
     "timestamp": 1624897879574,
     "user": {
      "displayName": "Monali Dambe",
      "photoUrl": "",
      "userId": "09026880642029004944"
     },
     "user_tz": -330
    },
    "id": "qvPiuARyUzpl"
   },
   "outputs": [],
   "source": [
    "fillna_all(df_train1)\n",
    "fillna_all(df_test1)"
   ]
  },
  {
   "cell_type": "code",
   "execution_count": 28,
   "metadata": {
    "executionInfo": {
     "elapsed": 237,
     "status": "ok",
     "timestamp": 1624897879578,
     "user": {
      "displayName": "Monali Dambe",
      "photoUrl": "",
      "userId": "09026880642029004944"
     },
     "user_tz": -330
    },
    "id": "7ZgpVi6mVDhM"
   },
   "outputs": [],
   "source": [
    "#feature encoding for train\n",
    "dummy_tr = pd.get_dummies(df_train1[list_obj_cols_tr], prefix=list_obj_cols_tr)\n",
    "#feature encoding for test\n",
    "dummy_te = pd.get_dummies(df_test1[list_obj_cols_te], prefix=list_obj_cols_te)"
   ]
  },
  {
   "cell_type": "code",
   "execution_count": 29,
   "metadata": {
    "colab": {
     "base_uri": "https://localhost:8080/"
    },
    "executionInfo": {
     "elapsed": 239,
     "status": "ok",
     "timestamp": 1624897879583,
     "user": {
      "displayName": "Monali Dambe",
      "photoUrl": "",
      "userId": "09026880642029004944"
     },
     "user_tz": -330
    },
    "id": "0zHUmzWuVaGd",
    "outputId": "a3e704e7-914f-4574-a9bd-1eb20109a231"
   },
   "outputs": [
    {
     "data": {
      "text/plain": [
       "((1460, 265), (1459, 248))"
      ]
     },
     "execution_count": 29,
     "metadata": {},
     "output_type": "execute_result"
    }
   ],
   "source": [
    "dummy_tr.shape , dummy_te.shape"
   ]
  },
  {
   "cell_type": "code",
   "execution_count": 30,
   "metadata": {
    "executionInfo": {
     "elapsed": 224,
     "status": "ok",
     "timestamp": 1624897879587,
     "user": {
      "displayName": "Monali Dambe",
      "photoUrl": "",
      "userId": "09026880642029004944"
     },
     "user_tz": -330
    },
    "id": "RWTeBffaZDuk"
   },
   "outputs": [],
   "source": [
    "not_in_test=set(dummy_tr.columns)-set(dummy_te)"
   ]
  },
  {
   "cell_type": "code",
   "execution_count": 31,
   "metadata": {
    "executionInfo": {
     "elapsed": 225,
     "status": "ok",
     "timestamp": 1624897879591,
     "user": {
      "displayName": "Monali Dambe",
      "photoUrl": "",
      "userId": "09026880642029004944"
     },
     "user_tz": -330
    },
    "id": "RJVHJIIpZr4b"
   },
   "outputs": [],
   "source": [
    "for col in not_in_test:\n",
    "  dummy_te[col]=0"
   ]
  },
  {
   "cell_type": "code",
   "execution_count": 32,
   "metadata": {
    "colab": {
     "base_uri": "https://localhost:8080/",
     "height": 439
    },
    "executionInfo": {
     "elapsed": 229,
     "status": "ok",
     "timestamp": 1624897879598,
     "user": {
      "displayName": "Monali Dambe",
      "photoUrl": "",
      "userId": "09026880642029004944"
     },
     "user_tz": -330
    },
    "id": "mzTYlL-lZsAv",
    "outputId": "01336c85-dceb-478d-93aa-8204588df7f9"
   },
   "outputs": [
    {
     "data": {
      "text/html": [
       "<div>\n",
       "<style scoped>\n",
       "    .dataframe tbody tr th:only-of-type {\n",
       "        vertical-align: middle;\n",
       "    }\n",
       "\n",
       "    .dataframe tbody tr th {\n",
       "        vertical-align: top;\n",
       "    }\n",
       "\n",
       "    .dataframe thead th {\n",
       "        text-align: right;\n",
       "    }\n",
       "</style>\n",
       "<table border=\"1\" class=\"dataframe\">\n",
       "  <thead>\n",
       "    <tr style=\"text-align: right;\">\n",
       "      <th></th>\n",
       "      <th>Utilities_NoSeWa</th>\n",
       "      <th>Heating_OthW</th>\n",
       "      <th>RoofMatl_ClyTile</th>\n",
       "      <th>Condition2_RRAe</th>\n",
       "      <th>HouseStyle_2.5Fin</th>\n",
       "      <th>RoofMatl_Roll</th>\n",
       "      <th>Condition2_RRAn</th>\n",
       "      <th>Condition2_RRNn</th>\n",
       "      <th>PoolQC_Fa</th>\n",
       "      <th>Exterior2nd_Other</th>\n",
       "      <th>RoofMatl_Membran</th>\n",
       "      <th>Exterior1st_ImStucc</th>\n",
       "      <th>GarageQual_Ex</th>\n",
       "      <th>RoofMatl_Metal</th>\n",
       "      <th>MiscFeature_TenC</th>\n",
       "      <th>Heating_Floor</th>\n",
       "      <th>Exterior1st_Stone</th>\n",
       "      <th>Electrical_Mix</th>\n",
       "    </tr>\n",
       "  </thead>\n",
       "  <tbody>\n",
       "    <tr>\n",
       "      <th>0</th>\n",
       "      <td>0</td>\n",
       "      <td>0</td>\n",
       "      <td>0</td>\n",
       "      <td>0</td>\n",
       "      <td>0</td>\n",
       "      <td>0</td>\n",
       "      <td>0</td>\n",
       "      <td>0</td>\n",
       "      <td>0</td>\n",
       "      <td>0</td>\n",
       "      <td>0</td>\n",
       "      <td>0</td>\n",
       "      <td>0</td>\n",
       "      <td>0</td>\n",
       "      <td>0</td>\n",
       "      <td>0</td>\n",
       "      <td>0</td>\n",
       "      <td>0</td>\n",
       "    </tr>\n",
       "    <tr>\n",
       "      <th>1</th>\n",
       "      <td>0</td>\n",
       "      <td>0</td>\n",
       "      <td>0</td>\n",
       "      <td>0</td>\n",
       "      <td>0</td>\n",
       "      <td>0</td>\n",
       "      <td>0</td>\n",
       "      <td>0</td>\n",
       "      <td>0</td>\n",
       "      <td>0</td>\n",
       "      <td>0</td>\n",
       "      <td>0</td>\n",
       "      <td>0</td>\n",
       "      <td>0</td>\n",
       "      <td>0</td>\n",
       "      <td>0</td>\n",
       "      <td>0</td>\n",
       "      <td>0</td>\n",
       "    </tr>\n",
       "    <tr>\n",
       "      <th>2</th>\n",
       "      <td>0</td>\n",
       "      <td>0</td>\n",
       "      <td>0</td>\n",
       "      <td>0</td>\n",
       "      <td>0</td>\n",
       "      <td>0</td>\n",
       "      <td>0</td>\n",
       "      <td>0</td>\n",
       "      <td>0</td>\n",
       "      <td>0</td>\n",
       "      <td>0</td>\n",
       "      <td>0</td>\n",
       "      <td>0</td>\n",
       "      <td>0</td>\n",
       "      <td>0</td>\n",
       "      <td>0</td>\n",
       "      <td>0</td>\n",
       "      <td>0</td>\n",
       "    </tr>\n",
       "    <tr>\n",
       "      <th>3</th>\n",
       "      <td>0</td>\n",
       "      <td>0</td>\n",
       "      <td>0</td>\n",
       "      <td>0</td>\n",
       "      <td>0</td>\n",
       "      <td>0</td>\n",
       "      <td>0</td>\n",
       "      <td>0</td>\n",
       "      <td>0</td>\n",
       "      <td>0</td>\n",
       "      <td>0</td>\n",
       "      <td>0</td>\n",
       "      <td>0</td>\n",
       "      <td>0</td>\n",
       "      <td>0</td>\n",
       "      <td>0</td>\n",
       "      <td>0</td>\n",
       "      <td>0</td>\n",
       "    </tr>\n",
       "    <tr>\n",
       "      <th>4</th>\n",
       "      <td>0</td>\n",
       "      <td>0</td>\n",
       "      <td>0</td>\n",
       "      <td>0</td>\n",
       "      <td>0</td>\n",
       "      <td>0</td>\n",
       "      <td>0</td>\n",
       "      <td>0</td>\n",
       "      <td>0</td>\n",
       "      <td>0</td>\n",
       "      <td>0</td>\n",
       "      <td>0</td>\n",
       "      <td>0</td>\n",
       "      <td>0</td>\n",
       "      <td>0</td>\n",
       "      <td>0</td>\n",
       "      <td>0</td>\n",
       "      <td>0</td>\n",
       "    </tr>\n",
       "    <tr>\n",
       "      <th>...</th>\n",
       "      <td>...</td>\n",
       "      <td>...</td>\n",
       "      <td>...</td>\n",
       "      <td>...</td>\n",
       "      <td>...</td>\n",
       "      <td>...</td>\n",
       "      <td>...</td>\n",
       "      <td>...</td>\n",
       "      <td>...</td>\n",
       "      <td>...</td>\n",
       "      <td>...</td>\n",
       "      <td>...</td>\n",
       "      <td>...</td>\n",
       "      <td>...</td>\n",
       "      <td>...</td>\n",
       "      <td>...</td>\n",
       "      <td>...</td>\n",
       "      <td>...</td>\n",
       "    </tr>\n",
       "    <tr>\n",
       "      <th>1454</th>\n",
       "      <td>0</td>\n",
       "      <td>0</td>\n",
       "      <td>0</td>\n",
       "      <td>0</td>\n",
       "      <td>0</td>\n",
       "      <td>0</td>\n",
       "      <td>0</td>\n",
       "      <td>0</td>\n",
       "      <td>0</td>\n",
       "      <td>0</td>\n",
       "      <td>0</td>\n",
       "      <td>0</td>\n",
       "      <td>0</td>\n",
       "      <td>0</td>\n",
       "      <td>0</td>\n",
       "      <td>0</td>\n",
       "      <td>0</td>\n",
       "      <td>0</td>\n",
       "    </tr>\n",
       "    <tr>\n",
       "      <th>1455</th>\n",
       "      <td>0</td>\n",
       "      <td>0</td>\n",
       "      <td>0</td>\n",
       "      <td>0</td>\n",
       "      <td>0</td>\n",
       "      <td>0</td>\n",
       "      <td>0</td>\n",
       "      <td>0</td>\n",
       "      <td>0</td>\n",
       "      <td>0</td>\n",
       "      <td>0</td>\n",
       "      <td>0</td>\n",
       "      <td>0</td>\n",
       "      <td>0</td>\n",
       "      <td>0</td>\n",
       "      <td>0</td>\n",
       "      <td>0</td>\n",
       "      <td>0</td>\n",
       "    </tr>\n",
       "    <tr>\n",
       "      <th>1456</th>\n",
       "      <td>0</td>\n",
       "      <td>0</td>\n",
       "      <td>0</td>\n",
       "      <td>0</td>\n",
       "      <td>0</td>\n",
       "      <td>0</td>\n",
       "      <td>0</td>\n",
       "      <td>0</td>\n",
       "      <td>0</td>\n",
       "      <td>0</td>\n",
       "      <td>0</td>\n",
       "      <td>0</td>\n",
       "      <td>0</td>\n",
       "      <td>0</td>\n",
       "      <td>0</td>\n",
       "      <td>0</td>\n",
       "      <td>0</td>\n",
       "      <td>0</td>\n",
       "    </tr>\n",
       "    <tr>\n",
       "      <th>1457</th>\n",
       "      <td>0</td>\n",
       "      <td>0</td>\n",
       "      <td>0</td>\n",
       "      <td>0</td>\n",
       "      <td>0</td>\n",
       "      <td>0</td>\n",
       "      <td>0</td>\n",
       "      <td>0</td>\n",
       "      <td>0</td>\n",
       "      <td>0</td>\n",
       "      <td>0</td>\n",
       "      <td>0</td>\n",
       "      <td>0</td>\n",
       "      <td>0</td>\n",
       "      <td>0</td>\n",
       "      <td>0</td>\n",
       "      <td>0</td>\n",
       "      <td>0</td>\n",
       "    </tr>\n",
       "    <tr>\n",
       "      <th>1458</th>\n",
       "      <td>0</td>\n",
       "      <td>0</td>\n",
       "      <td>0</td>\n",
       "      <td>0</td>\n",
       "      <td>0</td>\n",
       "      <td>0</td>\n",
       "      <td>0</td>\n",
       "      <td>0</td>\n",
       "      <td>0</td>\n",
       "      <td>0</td>\n",
       "      <td>0</td>\n",
       "      <td>0</td>\n",
       "      <td>0</td>\n",
       "      <td>0</td>\n",
       "      <td>0</td>\n",
       "      <td>0</td>\n",
       "      <td>0</td>\n",
       "      <td>0</td>\n",
       "    </tr>\n",
       "  </tbody>\n",
       "</table>\n",
       "<p>1459 rows × 18 columns</p>\n",
       "</div>"
      ],
      "text/plain": [
       "      Utilities_NoSeWa  Heating_OthW  RoofMatl_ClyTile  Condition2_RRAe  \\\n",
       "0                    0             0                 0                0   \n",
       "1                    0             0                 0                0   \n",
       "2                    0             0                 0                0   \n",
       "3                    0             0                 0                0   \n",
       "4                    0             0                 0                0   \n",
       "...                ...           ...               ...              ...   \n",
       "1454                 0             0                 0                0   \n",
       "1455                 0             0                 0                0   \n",
       "1456                 0             0                 0                0   \n",
       "1457                 0             0                 0                0   \n",
       "1458                 0             0                 0                0   \n",
       "\n",
       "      HouseStyle_2.5Fin  RoofMatl_Roll  Condition2_RRAn  Condition2_RRNn  \\\n",
       "0                     0              0                0                0   \n",
       "1                     0              0                0                0   \n",
       "2                     0              0                0                0   \n",
       "3                     0              0                0                0   \n",
       "4                     0              0                0                0   \n",
       "...                 ...            ...              ...              ...   \n",
       "1454                  0              0                0                0   \n",
       "1455                  0              0                0                0   \n",
       "1456                  0              0                0                0   \n",
       "1457                  0              0                0                0   \n",
       "1458                  0              0                0                0   \n",
       "\n",
       "      PoolQC_Fa  Exterior2nd_Other  RoofMatl_Membran  Exterior1st_ImStucc  \\\n",
       "0             0                  0                 0                    0   \n",
       "1             0                  0                 0                    0   \n",
       "2             0                  0                 0                    0   \n",
       "3             0                  0                 0                    0   \n",
       "4             0                  0                 0                    0   \n",
       "...         ...                ...               ...                  ...   \n",
       "1454          0                  0                 0                    0   \n",
       "1455          0                  0                 0                    0   \n",
       "1456          0                  0                 0                    0   \n",
       "1457          0                  0                 0                    0   \n",
       "1458          0                  0                 0                    0   \n",
       "\n",
       "      GarageQual_Ex  RoofMatl_Metal  MiscFeature_TenC  Heating_Floor  \\\n",
       "0                 0               0                 0              0   \n",
       "1                 0               0                 0              0   \n",
       "2                 0               0                 0              0   \n",
       "3                 0               0                 0              0   \n",
       "4                 0               0                 0              0   \n",
       "...             ...             ...               ...            ...   \n",
       "1454              0               0                 0              0   \n",
       "1455              0               0                 0              0   \n",
       "1456              0               0                 0              0   \n",
       "1457              0               0                 0              0   \n",
       "1458              0               0                 0              0   \n",
       "\n",
       "      Exterior1st_Stone  Electrical_Mix  \n",
       "0                     0               0  \n",
       "1                     0               0  \n",
       "2                     0               0  \n",
       "3                     0               0  \n",
       "4                     0               0  \n",
       "...                 ...             ...  \n",
       "1454                  0               0  \n",
       "1455                  0               0  \n",
       "1456                  0               0  \n",
       "1457                  0               0  \n",
       "1458                  0               0  \n",
       "\n",
       "[1459 rows x 18 columns]"
      ]
     },
     "execution_count": 32,
     "metadata": {},
     "output_type": "execute_result"
    }
   ],
   "source": [
    "dummy_te[not_in_test]"
   ]
  },
  {
   "cell_type": "code",
   "execution_count": 33,
   "metadata": {
    "executionInfo": {
     "elapsed": 228,
     "status": "ok",
     "timestamp": 1624897879604,
     "user": {
      "displayName": "Monali Dambe",
      "photoUrl": "",
      "userId": "09026880642029004944"
     },
     "user_tz": -330
    },
    "id": "x_Dw-kgkVyHk"
   },
   "outputs": [],
   "source": [
    "df_train1.drop(list_obj_cols_tr,axis=1, inplace=True)\n",
    "df_test1.drop(list_obj_cols_te,axis=1, inplace=True)"
   ]
  },
  {
   "cell_type": "code",
   "execution_count": 34,
   "metadata": {
    "executionInfo": {
     "elapsed": 229,
     "status": "ok",
     "timestamp": 1624897879608,
     "user": {
      "displayName": "Monali Dambe",
      "photoUrl": "",
      "userId": "09026880642029004944"
     },
     "user_tz": -330
    },
    "id": "akVR5U2SV-O8"
   },
   "outputs": [],
   "source": [
    "df_train_final=pd.concat([df_train1, dummy_tr],axis=1)\n",
    "df_test_final=pd.concat([df_test1, dummy_te],axis=1)"
   ]
  },
  {
   "cell_type": "code",
   "execution_count": 35,
   "metadata": {
    "colab": {
     "base_uri": "https://localhost:8080/"
    },
    "executionInfo": {
     "elapsed": 229,
     "status": "ok",
     "timestamp": 1624897879612,
     "user": {
      "displayName": "Monali Dambe",
      "photoUrl": "",
      "userId": "09026880642029004944"
     },
     "user_tz": -330
    },
    "id": "j5lsPjWAWXlR",
    "outputId": "69271311-ae46-401c-ab29-4e1e38f1530a"
   },
   "outputs": [
    {
     "data": {
      "text/plain": [
       "((1460, 302), (1459, 302))"
      ]
     },
     "execution_count": 35,
     "metadata": {},
     "output_type": "execute_result"
    }
   ],
   "source": [
    "df_train_final.shape, df_test_final.shape"
   ]
  },
  {
   "cell_type": "code",
   "execution_count": 36,
   "metadata": {
    "colab": {
     "base_uri": "https://localhost:8080/",
     "height": 270
    },
    "executionInfo": {
     "elapsed": 215,
     "status": "ok",
     "timestamp": 1624897879616,
     "user": {
      "displayName": "Monali Dambe",
      "photoUrl": "",
      "userId": "09026880642029004944"
     },
     "user_tz": -330
    },
    "id": "dPk3YakNdJN2",
    "outputId": "c2372f18-874d-4237-f455-cbc84d151bf9"
   },
   "outputs": [
    {
     "data": {
      "text/html": [
       "<div>\n",
       "<style scoped>\n",
       "    .dataframe tbody tr th:only-of-type {\n",
       "        vertical-align: middle;\n",
       "    }\n",
       "\n",
       "    .dataframe tbody tr th {\n",
       "        vertical-align: top;\n",
       "    }\n",
       "\n",
       "    .dataframe thead th {\n",
       "        text-align: right;\n",
       "    }\n",
       "</style>\n",
       "<table border=\"1\" class=\"dataframe\">\n",
       "  <thead>\n",
       "    <tr style=\"text-align: right;\">\n",
       "      <th></th>\n",
       "      <th>MSSubClass</th>\n",
       "      <th>LotFrontage</th>\n",
       "      <th>LotArea</th>\n",
       "      <th>OverallQual</th>\n",
       "      <th>OverallCond</th>\n",
       "      <th>YearBuilt</th>\n",
       "      <th>YearRemodAdd</th>\n",
       "      <th>MasVnrArea</th>\n",
       "      <th>BsmtFinSF1</th>\n",
       "      <th>BsmtFinSF2</th>\n",
       "      <th>...</th>\n",
       "      <th>SaleType_ConLw</th>\n",
       "      <th>SaleType_New</th>\n",
       "      <th>SaleType_Oth</th>\n",
       "      <th>SaleType_WD</th>\n",
       "      <th>SaleCondition_Abnorml</th>\n",
       "      <th>SaleCondition_AdjLand</th>\n",
       "      <th>SaleCondition_Alloca</th>\n",
       "      <th>SaleCondition_Family</th>\n",
       "      <th>SaleCondition_Normal</th>\n",
       "      <th>SaleCondition_Partial</th>\n",
       "    </tr>\n",
       "  </thead>\n",
       "  <tbody>\n",
       "    <tr>\n",
       "      <th>0</th>\n",
       "      <td>60</td>\n",
       "      <td>65.0</td>\n",
       "      <td>8450</td>\n",
       "      <td>7</td>\n",
       "      <td>5</td>\n",
       "      <td>2003</td>\n",
       "      <td>2003</td>\n",
       "      <td>196.0</td>\n",
       "      <td>706</td>\n",
       "      <td>0</td>\n",
       "      <td>...</td>\n",
       "      <td>0</td>\n",
       "      <td>0</td>\n",
       "      <td>0</td>\n",
       "      <td>1</td>\n",
       "      <td>0</td>\n",
       "      <td>0</td>\n",
       "      <td>0</td>\n",
       "      <td>0</td>\n",
       "      <td>1</td>\n",
       "      <td>0</td>\n",
       "    </tr>\n",
       "    <tr>\n",
       "      <th>1</th>\n",
       "      <td>20</td>\n",
       "      <td>80.0</td>\n",
       "      <td>9600</td>\n",
       "      <td>6</td>\n",
       "      <td>8</td>\n",
       "      <td>1976</td>\n",
       "      <td>1976</td>\n",
       "      <td>0.0</td>\n",
       "      <td>978</td>\n",
       "      <td>0</td>\n",
       "      <td>...</td>\n",
       "      <td>0</td>\n",
       "      <td>0</td>\n",
       "      <td>0</td>\n",
       "      <td>1</td>\n",
       "      <td>0</td>\n",
       "      <td>0</td>\n",
       "      <td>0</td>\n",
       "      <td>0</td>\n",
       "      <td>1</td>\n",
       "      <td>0</td>\n",
       "    </tr>\n",
       "    <tr>\n",
       "      <th>2</th>\n",
       "      <td>60</td>\n",
       "      <td>68.0</td>\n",
       "      <td>11250</td>\n",
       "      <td>7</td>\n",
       "      <td>5</td>\n",
       "      <td>2001</td>\n",
       "      <td>2002</td>\n",
       "      <td>162.0</td>\n",
       "      <td>486</td>\n",
       "      <td>0</td>\n",
       "      <td>...</td>\n",
       "      <td>0</td>\n",
       "      <td>0</td>\n",
       "      <td>0</td>\n",
       "      <td>1</td>\n",
       "      <td>0</td>\n",
       "      <td>0</td>\n",
       "      <td>0</td>\n",
       "      <td>0</td>\n",
       "      <td>1</td>\n",
       "      <td>0</td>\n",
       "    </tr>\n",
       "    <tr>\n",
       "      <th>3</th>\n",
       "      <td>70</td>\n",
       "      <td>60.0</td>\n",
       "      <td>9550</td>\n",
       "      <td>7</td>\n",
       "      <td>5</td>\n",
       "      <td>1915</td>\n",
       "      <td>1970</td>\n",
       "      <td>0.0</td>\n",
       "      <td>216</td>\n",
       "      <td>0</td>\n",
       "      <td>...</td>\n",
       "      <td>0</td>\n",
       "      <td>0</td>\n",
       "      <td>0</td>\n",
       "      <td>1</td>\n",
       "      <td>1</td>\n",
       "      <td>0</td>\n",
       "      <td>0</td>\n",
       "      <td>0</td>\n",
       "      <td>0</td>\n",
       "      <td>0</td>\n",
       "    </tr>\n",
       "    <tr>\n",
       "      <th>4</th>\n",
       "      <td>60</td>\n",
       "      <td>84.0</td>\n",
       "      <td>14260</td>\n",
       "      <td>8</td>\n",
       "      <td>5</td>\n",
       "      <td>2000</td>\n",
       "      <td>2000</td>\n",
       "      <td>350.0</td>\n",
       "      <td>655</td>\n",
       "      <td>0</td>\n",
       "      <td>...</td>\n",
       "      <td>0</td>\n",
       "      <td>0</td>\n",
       "      <td>0</td>\n",
       "      <td>1</td>\n",
       "      <td>0</td>\n",
       "      <td>0</td>\n",
       "      <td>0</td>\n",
       "      <td>0</td>\n",
       "      <td>1</td>\n",
       "      <td>0</td>\n",
       "    </tr>\n",
       "  </tbody>\n",
       "</table>\n",
       "<p>5 rows × 302 columns</p>\n",
       "</div>"
      ],
      "text/plain": [
       "   MSSubClass  LotFrontage  LotArea  OverallQual  OverallCond  YearBuilt  \\\n",
       "0          60         65.0     8450            7            5       2003   \n",
       "1          20         80.0     9600            6            8       1976   \n",
       "2          60         68.0    11250            7            5       2001   \n",
       "3          70         60.0     9550            7            5       1915   \n",
       "4          60         84.0    14260            8            5       2000   \n",
       "\n",
       "   YearRemodAdd  MasVnrArea  BsmtFinSF1  BsmtFinSF2  ...  SaleType_ConLw  \\\n",
       "0          2003       196.0         706           0  ...               0   \n",
       "1          1976         0.0         978           0  ...               0   \n",
       "2          2002       162.0         486           0  ...               0   \n",
       "3          1970         0.0         216           0  ...               0   \n",
       "4          2000       350.0         655           0  ...               0   \n",
       "\n",
       "   SaleType_New  SaleType_Oth  SaleType_WD  SaleCondition_Abnorml  \\\n",
       "0             0             0            1                      0   \n",
       "1             0             0            1                      0   \n",
       "2             0             0            1                      0   \n",
       "3             0             0            1                      1   \n",
       "4             0             0            1                      0   \n",
       "\n",
       "   SaleCondition_AdjLand  SaleCondition_Alloca  SaleCondition_Family  \\\n",
       "0                      0                     0                     0   \n",
       "1                      0                     0                     0   \n",
       "2                      0                     0                     0   \n",
       "3                      0                     0                     0   \n",
       "4                      0                     0                     0   \n",
       "\n",
       "   SaleCondition_Normal  SaleCondition_Partial  \n",
       "0                     1                      0  \n",
       "1                     1                      0  \n",
       "2                     1                      0  \n",
       "3                     0                      0  \n",
       "4                     1                      0  \n",
       "\n",
       "[5 rows x 302 columns]"
      ]
     },
     "execution_count": 36,
     "metadata": {},
     "output_type": "execute_result"
    }
   ],
   "source": [
    "df_train_final.head()"
   ]
  },
  {
   "cell_type": "code",
   "execution_count": 37,
   "metadata": {
    "colab": {
     "base_uri": "https://localhost:8080/"
    },
    "executionInfo": {
     "elapsed": 213,
     "status": "ok",
     "timestamp": 1624897879624,
     "user": {
      "displayName": "Monali Dambe",
      "photoUrl": "",
      "userId": "09026880642029004944"
     },
     "user_tz": -330
    },
    "id": "BXKAMwXQJKAX",
    "outputId": "40ccabff-c222-49b7-87b8-ef9818c60e46"
   },
   "outputs": [
    {
     "data": {
      "text/plain": [
       "0       208500\n",
       "1       181500\n",
       "2       223500\n",
       "3       140000\n",
       "4       250000\n",
       "         ...  \n",
       "1455    175000\n",
       "1456    210000\n",
       "1457    266500\n",
       "1458    142125\n",
       "1459    147500\n",
       "Name: SalePrice, Length: 1460, dtype: int64"
      ]
     },
     "execution_count": 37,
     "metadata": {},
     "output_type": "execute_result"
    }
   ],
   "source": [
    "df_train_final['SalePrice']"
   ]
  },
  {
   "cell_type": "code",
   "execution_count": 38,
   "metadata": {
    "colab": {
     "base_uri": "https://localhost:8080/"
    },
    "executionInfo": {
     "elapsed": 199,
     "status": "ok",
     "timestamp": 1624897879628,
     "user": {
      "displayName": "Monali Dambe",
      "photoUrl": "",
      "userId": "09026880642029004944"
     },
     "user_tz": -330
    },
    "id": "lIXlboaMa75a",
    "outputId": "01b729a4-4c74-48ee-a19b-75a6066223b7"
   },
   "outputs": [
    {
     "data": {
      "text/plain": [
       "(1459, 302)"
      ]
     },
     "execution_count": 38,
     "metadata": {},
     "output_type": "execute_result"
    }
   ],
   "source": [
    "df_test_final.shape"
   ]
  },
  {
   "cell_type": "code",
   "execution_count": 39,
   "metadata": {
    "colab": {
     "base_uri": "https://localhost:8080/",
     "height": 601
    },
    "executionInfo": {
     "elapsed": 281134,
     "status": "ok",
     "timestamp": 1624898160579,
     "user": {
      "displayName": "Monali Dambe",
      "photoUrl": "",
      "userId": "09026880642029004944"
     },
     "user_tz": -330
    },
    "id": "KPtLm-IeBiRz",
    "outputId": "ee515272-1594-4635-f40b-b74fb7a34263"
   },
   "outputs": [
    {
     "data": {
      "image/png": "[encoded data removed]",
      "text/plain": [
       "<Figure size 1008x576 with 2 Axes>"
      ]
     },
     "metadata": {
      "needs_background": "light"
     },
     "output_type": "display_data"
    }
   ],
   "source": [
    "plt.figure(figsize=(14,8))\n",
    "cor = df_train_final.corr()\n",
    "sns.heatmap(cor, annot=True, cmap=plt.cm.Reds)\n",
    "plt.show()"
   ]
  },
  {
   "cell_type": "code",
   "execution_count": 40,
   "metadata": {
    "executionInfo": {
     "elapsed": 288,
     "status": "ok",
     "timestamp": 1624898160585,
     "user": {
      "displayName": "Monali Dambe",
      "photoUrl": "",
      "userId": "09026880642029004944"
     },
     "user_tz": -330
    },
    "id": "ZLjiXLKVR98b"
   },
   "outputs": [],
   "source": [
    "import numpy as np"
   ]
  },
  {
   "cell_type": "code",
   "execution_count": 41,
   "metadata": {
    "executionInfo": {
     "elapsed": 288,
     "status": "ok",
     "timestamp": 1624898160595,
     "user": {
      "displayName": "Monali Dambe",
      "photoUrl": "",
      "userId": "09026880642029004944"
     },
     "user_tz": -330
    },
    "id": "De7c8umzB_i8"
   },
   "outputs": [],
   "source": [
    "predictors = df_train_final.drop(['SalePrice'], axis = 1) \n",
    "criterion = df_train_final['SalePrice']"
   ]
  },
  {
   "cell_type": "code",
   "execution_count": 42,
   "metadata": {
    "colab": {
     "base_uri": "https://localhost:8080/",
     "height": 270
    },
    "executionInfo": {
     "elapsed": 295,
     "status": "ok",
     "timestamp": 1624898160606,
     "user": {
      "displayName": "Monali Dambe",
      "photoUrl": "",
      "userId": "09026880642029004944"
     },
     "user_tz": -330
    },
    "id": "AYwa2-pfEVYS",
    "outputId": "e96a7349-d2e5-4fa4-a783-a3f3a748bfbe"
   },
   "outputs": [
    {
     "data": {
      "text/html": [
       "<div>\n",
       "<style scoped>\n",
       "    .dataframe tbody tr th:only-of-type {\n",
       "        vertical-align: middle;\n",
       "    }\n",
       "\n",
       "    .dataframe tbody tr th {\n",
       "        vertical-align: top;\n",
       "    }\n",
       "\n",
       "    .dataframe thead th {\n",
       "        text-align: right;\n",
       "    }\n",
       "</style>\n",
       "<table border=\"1\" class=\"dataframe\">\n",
       "  <thead>\n",
       "    <tr style=\"text-align: right;\">\n",
       "      <th></th>\n",
       "      <th>MSSubClass</th>\n",
       "      <th>LotFrontage</th>\n",
       "      <th>LotArea</th>\n",
       "      <th>OverallQual</th>\n",
       "      <th>OverallCond</th>\n",
       "      <th>YearBuilt</th>\n",
       "      <th>YearRemodAdd</th>\n",
       "      <th>MasVnrArea</th>\n",
       "      <th>BsmtFinSF1</th>\n",
       "      <th>BsmtFinSF2</th>\n",
       "      <th>...</th>\n",
       "      <th>SaleType_ConLw</th>\n",
       "      <th>SaleType_New</th>\n",
       "      <th>SaleType_Oth</th>\n",
       "      <th>SaleType_WD</th>\n",
       "      <th>SaleCondition_Abnorml</th>\n",
       "      <th>SaleCondition_AdjLand</th>\n",
       "      <th>SaleCondition_Alloca</th>\n",
       "      <th>SaleCondition_Family</th>\n",
       "      <th>SaleCondition_Normal</th>\n",
       "      <th>SaleCondition_Partial</th>\n",
       "    </tr>\n",
       "  </thead>\n",
       "  <tbody>\n",
       "    <tr>\n",
       "      <th>0</th>\n",
       "      <td>60</td>\n",
       "      <td>65.0</td>\n",
       "      <td>8450</td>\n",
       "      <td>7</td>\n",
       "      <td>5</td>\n",
       "      <td>2003</td>\n",
       "      <td>2003</td>\n",
       "      <td>196.0</td>\n",
       "      <td>706</td>\n",
       "      <td>0</td>\n",
       "      <td>...</td>\n",
       "      <td>0</td>\n",
       "      <td>0</td>\n",
       "      <td>0</td>\n",
       "      <td>1</td>\n",
       "      <td>0</td>\n",
       "      <td>0</td>\n",
       "      <td>0</td>\n",
       "      <td>0</td>\n",
       "      <td>1</td>\n",
       "      <td>0</td>\n",
       "    </tr>\n",
       "    <tr>\n",
       "      <th>1</th>\n",
       "      <td>20</td>\n",
       "      <td>80.0</td>\n",
       "      <td>9600</td>\n",
       "      <td>6</td>\n",
       "      <td>8</td>\n",
       "      <td>1976</td>\n",
       "      <td>1976</td>\n",
       "      <td>0.0</td>\n",
       "      <td>978</td>\n",
       "      <td>0</td>\n",
       "      <td>...</td>\n",
       "      <td>0</td>\n",
       "      <td>0</td>\n",
       "      <td>0</td>\n",
       "      <td>1</td>\n",
       "      <td>0</td>\n",
       "      <td>0</td>\n",
       "      <td>0</td>\n",
       "      <td>0</td>\n",
       "      <td>1</td>\n",
       "      <td>0</td>\n",
       "    </tr>\n",
       "    <tr>\n",
       "      <th>2</th>\n",
       "      <td>60</td>\n",
       "      <td>68.0</td>\n",
       "      <td>11250</td>\n",
       "      <td>7</td>\n",
       "      <td>5</td>\n",
       "      <td>2001</td>\n",
       "      <td>2002</td>\n",
       "      <td>162.0</td>\n",
       "      <td>486</td>\n",
       "      <td>0</td>\n",
       "      <td>...</td>\n",
       "      <td>0</td>\n",
       "      <td>0</td>\n",
       "      <td>0</td>\n",
       "      <td>1</td>\n",
       "      <td>0</td>\n",
       "      <td>0</td>\n",
       "      <td>0</td>\n",
       "      <td>0</td>\n",
       "      <td>1</td>\n",
       "      <td>0</td>\n",
       "    </tr>\n",
       "    <tr>\n",
       "      <th>3</th>\n",
       "      <td>70</td>\n",
       "      <td>60.0</td>\n",
       "      <td>9550</td>\n",
       "      <td>7</td>\n",
       "      <td>5</td>\n",
       "      <td>1915</td>\n",
       "      <td>1970</td>\n",
       "      <td>0.0</td>\n",
       "      <td>216</td>\n",
       "      <td>0</td>\n",
       "      <td>...</td>\n",
       "      <td>0</td>\n",
       "      <td>0</td>\n",
       "      <td>0</td>\n",
       "      <td>1</td>\n",
       "      <td>1</td>\n",
       "      <td>0</td>\n",
       "      <td>0</td>\n",
       "      <td>0</td>\n",
       "      <td>0</td>\n",
       "      <td>0</td>\n",
       "    </tr>\n",
       "    <tr>\n",
       "      <th>4</th>\n",
       "      <td>60</td>\n",
       "      <td>84.0</td>\n",
       "      <td>14260</td>\n",
       "      <td>8</td>\n",
       "      <td>5</td>\n",
       "      <td>2000</td>\n",
       "      <td>2000</td>\n",
       "      <td>350.0</td>\n",
       "      <td>655</td>\n",
       "      <td>0</td>\n",
       "      <td>...</td>\n",
       "      <td>0</td>\n",
       "      <td>0</td>\n",
       "      <td>0</td>\n",
       "      <td>1</td>\n",
       "      <td>0</td>\n",
       "      <td>0</td>\n",
       "      <td>0</td>\n",
       "      <td>0</td>\n",
       "      <td>1</td>\n",
       "      <td>0</td>\n",
       "    </tr>\n",
       "  </tbody>\n",
       "</table>\n",
       "<p>5 rows × 301 columns</p>\n",
       "</div>"
      ],
      "text/plain": [
       "   MSSubClass  LotFrontage  LotArea  OverallQual  OverallCond  YearBuilt  \\\n",
       "0          60         65.0     8450            7            5       2003   \n",
       "1          20         80.0     9600            6            8       1976   \n",
       "2          60         68.0    11250            7            5       2001   \n",
       "3          70         60.0     9550            7            5       1915   \n",
       "4          60         84.0    14260            8            5       2000   \n",
       "\n",
       "   YearRemodAdd  MasVnrArea  BsmtFinSF1  BsmtFinSF2  ...  SaleType_ConLw  \\\n",
       "0          2003       196.0         706           0  ...               0   \n",
       "1          1976         0.0         978           0  ...               0   \n",
       "2          2002       162.0         486           0  ...               0   \n",
       "3          1970         0.0         216           0  ...               0   \n",
       "4          2000       350.0         655           0  ...               0   \n",
       "\n",
       "   SaleType_New  SaleType_Oth  SaleType_WD  SaleCondition_Abnorml  \\\n",
       "0             0             0            1                      0   \n",
       "1             0             0            1                      0   \n",
       "2             0             0            1                      0   \n",
       "3             0             0            1                      1   \n",
       "4             0             0            1                      0   \n",
       "\n",
       "   SaleCondition_AdjLand  SaleCondition_Alloca  SaleCondition_Family  \\\n",
       "0                      0                     0                     0   \n",
       "1                      0                     0                     0   \n",
       "2                      0                     0                     0   \n",
       "3                      0                     0                     0   \n",
       "4                      0                     0                     0   \n",
       "\n",
       "   SaleCondition_Normal  SaleCondition_Partial  \n",
       "0                     1                      0  \n",
       "1                     1                      0  \n",
       "2                     1                      0  \n",
       "3                     0                      0  \n",
       "4                     1                      0  \n",
       "\n",
       "[5 rows x 301 columns]"
      ]
     },
     "execution_count": 42,
     "metadata": {},
     "output_type": "execute_result"
    }
   ],
   "source": [
    " predictors.head()"
   ]
  },
  {
   "cell_type": "code",
   "execution_count": 43,
   "metadata": {
    "executionInfo": {
     "elapsed": 289,
     "status": "ok",
     "timestamp": 1624898160611,
     "user": {
      "displayName": "Monali Dambe",
      "photoUrl": "",
      "userId": "09026880642029004944"
     },
     "user_tz": -330
    },
    "id": "fJBclT2HRrdy"
   },
   "outputs": [],
   "source": [
    " #Identification of highly correlated features\n",
    " threshold = 0.8\n",
    " \n",
    "def high_cor_function(df):\n",
    "    cor = df.corr()\n",
    "    corrm = np.corrcoef(df.transpose())\n",
    "    corr = corrm - np.diagflat(corrm.diagonal())\n",
    "    print(\"max corr:\",corr.max(), \", min corr: \", corr.min())\n",
    "    c1 = cor.stack().sort_values(ascending=False).drop_duplicates()\n",
    "    high_cor = c1[c1.values!=1]    \n",
    "    thresh = threshold \n",
    "    display(high_cor[high_cor>thresh])"
   ]
  },
  {
   "cell_type": "code",
   "execution_count": 44,
   "metadata": {
    "colab": {
     "base_uri": "https://localhost:8080/",
     "height": 340
    },
    "executionInfo": {
     "elapsed": 291,
     "status": "ok",
     "timestamp": 1624898160616,
     "user": {
      "displayName": "Monali Dambe",
      "photoUrl": "",
      "userId": "09026880642029004944"
     },
     "user_tz": -330
    },
    "id": "iIjbLuKkR30G",
    "outputId": "530bf99e-a439-4b97-ad6c-57652896fd33"
   },
   "outputs": [
    {
     "name": "stdout",
     "output_type": "stream",
     "text": [
      "max corr: 1.0 , min corr:  -1.0\n"
     ]
    },
    {
     "data": {
      "text/plain": [
       "SaleCondition_Partial  SaleType_New           0.986819\n",
       "BsmtFinType1_NA        BsmtExposure_NA        0.986408\n",
       "BsmtCond_NA            BsmtExposure_NA        0.986408\n",
       "Exterior1st_VinylSd    Exterior2nd_VinylSd    0.977525\n",
       "Exterior1st_CemntBd    Exterior2nd_CmentBd    0.974171\n",
       "Exterior2nd_MetalSd    Exterior1st_MetalSd    0.973065\n",
       "MiscVal                MiscFeature_Gar2       0.885427\n",
       "Exterior2nd_HdBoard    Exterior1st_HdBoard    0.883271\n",
       "GarageCars             GarageArea             0.882475\n",
       "Neighborhood_Somerst   MSZoning_FV            0.862807\n",
       "Exterior2nd_Wd Sdng    Exterior1st_Wd Sdng    0.859244\n",
       "Exterior2nd_AsbShng    Exterior1st_AsbShng    0.847917\n",
       "RoofStyle_Flat         RoofMatl_Tar&Grv       0.834914\n",
       "GrLivArea              TotRmsAbvGrd           0.825489\n",
       "1stFlrSF               TotalBsmtSF            0.819530\n",
       "GarageQual_Ex          GarageCond_Ex          0.816217\n",
       "2ndFlrSF               HouseStyle_2Story      0.809150\n",
       "BsmtFinType1_NA        Foundation_Slab        0.801733\n",
       "dtype: float64"
      ]
     },
     "metadata": {},
     "output_type": "display_data"
    }
   ],
   "source": [
    " high_cor_function(predictors)"
   ]
  },
  {
   "cell_type": "code",
   "execution_count": 45,
   "metadata": {
    "executionInfo": {
     "elapsed": 269,
     "status": "ok",
     "timestamp": 1624898160621,
     "user": {
      "displayName": "Monali Dambe",
      "photoUrl": "",
      "userId": "09026880642029004944"
     },
     "user_tz": -330
    },
    "id": "6hmj74ZCavA2"
   },
   "outputs": [],
   "source": [
    "correlated_features=set()\n",
    "correlation_matrix=df_train_final.corr()"
   ]
  },
  {
   "cell_type": "code",
   "execution_count": 46,
   "metadata": {
    "executionInfo": {
     "elapsed": 270,
     "status": "ok",
     "timestamp": 1624898160626,
     "user": {
      "displayName": "Monali Dambe",
      "photoUrl": "",
      "userId": "09026880642029004944"
     },
     "user_tz": -330
    },
    "id": "NFxHmP8eGgLF"
   },
   "outputs": [],
   "source": [
    "threshold = 0.9\n",
    "for i in range(len(correlation_matrix.columns)):\n",
    "  for j in range(i):\n",
    "    if abs(correlation_matrix.iloc[i,j])>threshold:\n",
    "      colname=correlation_matrix.columns[i]\n",
    "      correlated_features.add(colname)"
   ]
  },
  {
   "cell_type": "code",
   "execution_count": 47,
   "metadata": {
    "colab": {
     "base_uri": "https://localhost:8080/"
    },
    "executionInfo": {
     "elapsed": 272,
     "status": "ok",
     "timestamp": 1624898160631,
     "user": {
      "displayName": "Monali Dambe",
      "photoUrl": "",
      "userId": "09026880642029004944"
     },
     "user_tz": -330
    },
    "id": "wLPoajicbhbF",
    "outputId": "b7544c46-b24c-4c32-f8b6-536cb852ea13"
   },
   "outputs": [
    {
     "data": {
      "text/plain": [
       "21"
      ]
     },
     "execution_count": 47,
     "metadata": {},
     "output_type": "execute_result"
    }
   ],
   "source": [
    "len(correlated_features)"
   ]
  },
  {
   "cell_type": "code",
   "execution_count": 48,
   "metadata": {
    "colab": {
     "base_uri": "https://localhost:8080/"
    },
    "executionInfo": {
     "elapsed": 259,
     "status": "ok",
     "timestamp": 1624898160637,
     "user": {
      "displayName": "Monali Dambe",
      "photoUrl": "",
      "userId": "09026880642029004944"
     },
     "user_tz": -330
    },
    "id": "41v9wVShbqCM",
    "outputId": "4fbe8623-c1b8-4995-9110-89d61a286a18"
   },
   "outputs": [
    {
     "name": "stdout",
     "output_type": "stream",
     "text": [
      "{'LotShape_Reg', 'GarageFinish_NA', 'Street_Pave', 'Exterior2nd_CBlock', 'RoofStyle_Hip', 'Utilities_NoSeWa', 'LandSlope_Mod', 'SaleCondition_Partial', 'Exterior2nd_MetalSd', 'ExterQual_TA', 'MiscFeature_Shed', 'Exterior2nd_VinylSd', 'GarageCond_NA', 'BsmtCond_NA', 'BsmtFinType1_NA', 'BsmtExposure_NA', 'CentralAir_Y', 'GarageQual_NA', 'FireplaceQu_NA', 'PoolQC_NA', 'Exterior2nd_CmentBd'}\n"
     ]
    }
   ],
   "source": [
    "print(correlated_features)"
   ]
  },
  {
   "cell_type": "code",
   "execution_count": 49,
   "metadata": {
    "executionInfo": {
     "elapsed": 246,
     "status": "ok",
     "timestamp": 1624898160642,
     "user": {
      "displayName": "Monali Dambe",
      "photoUrl": "",
      "userId": "09026880642029004944"
     },
     "user_tz": -330
    },
    "id": "zVhybC1dhSLn"
   },
   "outputs": [],
   "source": [
    "predictors1=predictors.drop(labels=correlated_features, axis = 1)\n",
    "X_cols_test=df_test_final.drop(labels=correlated_features,axis=1)"
   ]
  },
  {
   "cell_type": "code",
   "execution_count": 50,
   "metadata": {},
   "outputs": [],
   "source": [
    "cor = df_train_final.corr()"
   ]
  },
  {
   "cell_type": "code",
   "execution_count": 51,
   "metadata": {
    "colab": {
     "base_uri": "https://localhost:8080/",
     "height": 1000
    },
    "executionInfo": {
     "elapsed": 248,
     "status": "ok",
     "timestamp": 1624898160647,
     "user": {
      "displayName": "Monali Dambe",
      "photoUrl": "",
      "userId": "09026880642029004944"
     },
     "user_tz": -330
    },
    "id": "LY1BxYJDEdHh",
    "outputId": "ed0643f6-8d5b-4dc8-89f3-a7a1e52b2ede"
   },
   "outputs": [
    {
     "data": {
      "text/html": [
       "<div>\n",
       "<style scoped>\n",
       "    .dataframe tbody tr th:only-of-type {\n",
       "        vertical-align: middle;\n",
       "    }\n",
       "\n",
       "    .dataframe tbody tr th {\n",
       "        vertical-align: top;\n",
       "    }\n",
       "\n",
       "    .dataframe thead th {\n",
       "        text-align: right;\n",
       "    }\n",
       "</style>\n",
       "<table border=\"1\" class=\"dataframe\">\n",
       "  <thead>\n",
       "    <tr style=\"text-align: right;\">\n",
       "      <th></th>\n",
       "      <th>Variables</th>\n",
       "      <th>Correlation</th>\n",
       "    </tr>\n",
       "  </thead>\n",
       "  <tbody>\n",
       "    <tr>\n",
       "      <th>20</th>\n",
       "      <td>SalePrice</td>\n",
       "      <td>1.000000</td>\n",
       "    </tr>\n",
       "    <tr>\n",
       "      <th>2</th>\n",
       "      <td>OverallQual</td>\n",
       "      <td>0.790982</td>\n",
       "    </tr>\n",
       "    <tr>\n",
       "      <th>10</th>\n",
       "      <td>GrLivArea</td>\n",
       "      <td>0.708624</td>\n",
       "    </tr>\n",
       "    <tr>\n",
       "      <th>16</th>\n",
       "      <td>GarageCars</td>\n",
       "      <td>0.640409</td>\n",
       "    </tr>\n",
       "    <tr>\n",
       "      <th>17</th>\n",
       "      <td>GarageArea</td>\n",
       "      <td>0.623431</td>\n",
       "    </tr>\n",
       "    <tr>\n",
       "      <th>7</th>\n",
       "      <td>TotalBsmtSF</td>\n",
       "      <td>0.613581</td>\n",
       "    </tr>\n",
       "    <tr>\n",
       "      <th>8</th>\n",
       "      <td>1stFlrSF</td>\n",
       "      <td>0.605852</td>\n",
       "    </tr>\n",
       "    <tr>\n",
       "      <th>31</th>\n",
       "      <td>ExterQual_TA</td>\n",
       "      <td>0.589044</td>\n",
       "    </tr>\n",
       "    <tr>\n",
       "      <th>11</th>\n",
       "      <td>FullBath</td>\n",
       "      <td>0.560664</td>\n",
       "    </tr>\n",
       "    <tr>\n",
       "      <th>34</th>\n",
       "      <td>BsmtQual_Ex</td>\n",
       "      <td>0.553105</td>\n",
       "    </tr>\n",
       "    <tr>\n",
       "      <th>13</th>\n",
       "      <td>TotRmsAbvGrd</td>\n",
       "      <td>0.533723</td>\n",
       "    </tr>\n",
       "    <tr>\n",
       "      <th>3</th>\n",
       "      <td>YearBuilt</td>\n",
       "      <td>0.522897</td>\n",
       "    </tr>\n",
       "    <tr>\n",
       "      <th>45</th>\n",
       "      <td>KitchenQual_TA</td>\n",
       "      <td>0.519298</td>\n",
       "    </tr>\n",
       "    <tr>\n",
       "      <th>4</th>\n",
       "      <td>YearRemodAdd</td>\n",
       "      <td>0.507101</td>\n",
       "    </tr>\n",
       "    <tr>\n",
       "      <th>43</th>\n",
       "      <td>KitchenQual_Ex</td>\n",
       "      <td>0.504094</td>\n",
       "    </tr>\n",
       "    <tr>\n",
       "      <th>33</th>\n",
       "      <td>Foundation_PConc</td>\n",
       "      <td>0.497734</td>\n",
       "    </tr>\n",
       "    <tr>\n",
       "      <th>5</th>\n",
       "      <td>MasVnrArea</td>\n",
       "      <td>0.472614</td>\n",
       "    </tr>\n",
       "    <tr>\n",
       "      <th>48</th>\n",
       "      <td>FireplaceQu_NA</td>\n",
       "      <td>0.471908</td>\n",
       "    </tr>\n",
       "    <tr>\n",
       "      <th>14</th>\n",
       "      <td>Fireplaces</td>\n",
       "      <td>0.466929</td>\n",
       "    </tr>\n",
       "    <tr>\n",
       "      <th>15</th>\n",
       "      <td>GarageYrBlt</td>\n",
       "      <td>0.466754</td>\n",
       "    </tr>\n",
       "    <tr>\n",
       "      <th>30</th>\n",
       "      <td>ExterQual_Gd</td>\n",
       "      <td>0.452466</td>\n",
       "    </tr>\n",
       "    <tr>\n",
       "      <th>35</th>\n",
       "      <td>BsmtQual_TA</td>\n",
       "      <td>0.452394</td>\n",
       "    </tr>\n",
       "    <tr>\n",
       "      <th>29</th>\n",
       "      <td>ExterQual_Ex</td>\n",
       "      <td>0.451164</td>\n",
       "    </tr>\n",
       "    <tr>\n",
       "      <th>38</th>\n",
       "      <td>BsmtFinType1_GLQ</td>\n",
       "      <td>0.434597</td>\n",
       "    </tr>\n",
       "    <tr>\n",
       "      <th>39</th>\n",
       "      <td>HeatingQC_Ex</td>\n",
       "      <td>0.434543</td>\n",
       "    </tr>\n",
       "    <tr>\n",
       "      <th>51</th>\n",
       "      <td>GarageFinish_Fin</td>\n",
       "      <td>0.419678</td>\n",
       "    </tr>\n",
       "    <tr>\n",
       "      <th>52</th>\n",
       "      <td>GarageFinish_Unf</td>\n",
       "      <td>0.410608</td>\n",
       "    </tr>\n",
       "    <tr>\n",
       "      <th>24</th>\n",
       "      <td>Neighborhood_NridgHt</td>\n",
       "      <td>0.402149</td>\n",
       "    </tr>\n",
       "    <tr>\n",
       "      <th>6</th>\n",
       "      <td>BsmtFinSF1</td>\n",
       "      <td>0.386420</td>\n",
       "    </tr>\n",
       "    <tr>\n",
       "      <th>27</th>\n",
       "      <td>MasVnrType_None</td>\n",
       "      <td>0.367456</td>\n",
       "    </tr>\n",
       "    <tr>\n",
       "      <th>54</th>\n",
       "      <td>SaleType_New</td>\n",
       "      <td>0.357509</td>\n",
       "    </tr>\n",
       "    <tr>\n",
       "      <th>50</th>\n",
       "      <td>GarageType_Detchd</td>\n",
       "      <td>0.354141</td>\n",
       "    </tr>\n",
       "    <tr>\n",
       "      <th>55</th>\n",
       "      <td>SaleCondition_Partial</td>\n",
       "      <td>0.352060</td>\n",
       "    </tr>\n",
       "    <tr>\n",
       "      <th>32</th>\n",
       "      <td>Foundation_CBlock</td>\n",
       "      <td>0.343263</td>\n",
       "    </tr>\n",
       "    <tr>\n",
       "      <th>47</th>\n",
       "      <td>FireplaceQu_Gd</td>\n",
       "      <td>0.339329</td>\n",
       "    </tr>\n",
       "    <tr>\n",
       "      <th>49</th>\n",
       "      <td>GarageType_Attchd</td>\n",
       "      <td>0.335961</td>\n",
       "    </tr>\n",
       "    <tr>\n",
       "      <th>0</th>\n",
       "      <td>LotFrontage</td>\n",
       "      <td>0.334771</td>\n",
       "    </tr>\n",
       "    <tr>\n",
       "      <th>28</th>\n",
       "      <td>MasVnrType_Stone</td>\n",
       "      <td>0.330476</td>\n",
       "    </tr>\n",
       "    <tr>\n",
       "      <th>23</th>\n",
       "      <td>Neighborhood_NoRidge</td>\n",
       "      <td>0.330424</td>\n",
       "    </tr>\n",
       "    <tr>\n",
       "      <th>18</th>\n",
       "      <td>WoodDeckSF</td>\n",
       "      <td>0.324413</td>\n",
       "    </tr>\n",
       "    <tr>\n",
       "      <th>44</th>\n",
       "      <td>KitchenQual_Gd</td>\n",
       "      <td>0.321641</td>\n",
       "    </tr>\n",
       "    <tr>\n",
       "      <th>9</th>\n",
       "      <td>2ndFlrSF</td>\n",
       "      <td>0.319334</td>\n",
       "    </tr>\n",
       "    <tr>\n",
       "      <th>19</th>\n",
       "      <td>OpenPorchSF</td>\n",
       "      <td>0.315856</td>\n",
       "    </tr>\n",
       "    <tr>\n",
       "      <th>40</th>\n",
       "      <td>HeatingQC_TA</td>\n",
       "      <td>0.312677</td>\n",
       "    </tr>\n",
       "    <tr>\n",
       "      <th>36</th>\n",
       "      <td>BsmtExposure_Gd</td>\n",
       "      <td>0.307298</td>\n",
       "    </tr>\n",
       "    <tr>\n",
       "      <th>26</th>\n",
       "      <td>Exterior2nd_VinylSd</td>\n",
       "      <td>0.306389</td>\n",
       "    </tr>\n",
       "    <tr>\n",
       "      <th>25</th>\n",
       "      <td>Exterior1st_VinylSd</td>\n",
       "      <td>0.305009</td>\n",
       "    </tr>\n",
       "    <tr>\n",
       "      <th>21</th>\n",
       "      <td>MSZoning_RM</td>\n",
       "      <td>0.288065</td>\n",
       "    </tr>\n",
       "    <tr>\n",
       "      <th>12</th>\n",
       "      <td>HalfBath</td>\n",
       "      <td>0.284108</td>\n",
       "    </tr>\n",
       "    <tr>\n",
       "      <th>53</th>\n",
       "      <td>GarageCond_TA</td>\n",
       "      <td>0.275872</td>\n",
       "    </tr>\n",
       "    <tr>\n",
       "      <th>22</th>\n",
       "      <td>LotShape_Reg</td>\n",
       "      <td>0.267672</td>\n",
       "    </tr>\n",
       "    <tr>\n",
       "      <th>1</th>\n",
       "      <td>LotArea</td>\n",
       "      <td>0.263843</td>\n",
       "    </tr>\n",
       "    <tr>\n",
       "      <th>37</th>\n",
       "      <td>BsmtExposure_No</td>\n",
       "      <td>0.263600</td>\n",
       "    </tr>\n",
       "    <tr>\n",
       "      <th>46</th>\n",
       "      <td>FireplaceQu_Ex</td>\n",
       "      <td>0.255239</td>\n",
       "    </tr>\n",
       "    <tr>\n",
       "      <th>42</th>\n",
       "      <td>CentralAir_Y</td>\n",
       "      <td>0.251328</td>\n",
       "    </tr>\n",
       "    <tr>\n",
       "      <th>41</th>\n",
       "      <td>CentralAir_N</td>\n",
       "      <td>0.251328</td>\n",
       "    </tr>\n",
       "  </tbody>\n",
       "</table>\n",
       "</div>"
      ],
      "text/plain": [
       "                Variables  Correlation\n",
       "20              SalePrice     1.000000\n",
       "2             OverallQual     0.790982\n",
       "10              GrLivArea     0.708624\n",
       "16             GarageCars     0.640409\n",
       "17             GarageArea     0.623431\n",
       "7             TotalBsmtSF     0.613581\n",
       "8                1stFlrSF     0.605852\n",
       "31           ExterQual_TA     0.589044\n",
       "11               FullBath     0.560664\n",
       "34            BsmtQual_Ex     0.553105\n",
       "13           TotRmsAbvGrd     0.533723\n",
       "3               YearBuilt     0.522897\n",
       "45         KitchenQual_TA     0.519298\n",
       "4            YearRemodAdd     0.507101\n",
       "43         KitchenQual_Ex     0.504094\n",
       "33       Foundation_PConc     0.497734\n",
       "5              MasVnrArea     0.472614\n",
       "48         FireplaceQu_NA     0.471908\n",
       "14             Fireplaces     0.466929\n",
       "15            GarageYrBlt     0.466754\n",
       "30           ExterQual_Gd     0.452466\n",
       "35            BsmtQual_TA     0.452394\n",
       "29           ExterQual_Ex     0.451164\n",
       "38       BsmtFinType1_GLQ     0.434597\n",
       "39           HeatingQC_Ex     0.434543\n",
       "51       GarageFinish_Fin     0.419678\n",
       "52       GarageFinish_Unf     0.410608\n",
       "24   Neighborhood_NridgHt     0.402149\n",
       "6              BsmtFinSF1     0.386420\n",
       "27        MasVnrType_None     0.367456\n",
       "54           SaleType_New     0.357509\n",
       "50      GarageType_Detchd     0.354141\n",
       "55  SaleCondition_Partial     0.352060\n",
       "32      Foundation_CBlock     0.343263\n",
       "47         FireplaceQu_Gd     0.339329\n",
       "49      GarageType_Attchd     0.335961\n",
       "0             LotFrontage     0.334771\n",
       "28       MasVnrType_Stone     0.330476\n",
       "23   Neighborhood_NoRidge     0.330424\n",
       "18             WoodDeckSF     0.324413\n",
       "44         KitchenQual_Gd     0.321641\n",
       "9                2ndFlrSF     0.319334\n",
       "19            OpenPorchSF     0.315856\n",
       "40           HeatingQC_TA     0.312677\n",
       "36        BsmtExposure_Gd     0.307298\n",
       "26    Exterior2nd_VinylSd     0.306389\n",
       "25    Exterior1st_VinylSd     0.305009\n",
       "21            MSZoning_RM     0.288065\n",
       "12               HalfBath     0.284108\n",
       "53          GarageCond_TA     0.275872\n",
       "22           LotShape_Reg     0.267672\n",
       "1                 LotArea     0.263843\n",
       "37        BsmtExposure_No     0.263600\n",
       "46         FireplaceQu_Ex     0.255239\n",
       "42           CentralAir_Y     0.251328\n",
       "41           CentralAir_N     0.251328"
      ]
     },
     "execution_count": 51,
     "metadata": {},
     "output_type": "execute_result"
    }
   ],
   "source": [
    "#Correlations with the output variable\n",
    "threshold=0.25\n",
    "cor_criterion =abs(cor[\"SalePrice\"])\n",
    "relevant_features = cor_criterion[cor_criterion>threshold]\n",
    "relevant_features = relevant_features.reset_index()\n",
    "relevant_features.columns=['Variables','Correlation']\n",
    "relevant_features = relevant_features.sort_values(by='Correlation',ascending=False)\n",
    "relevant_features"
   ]
  },
  {
   "cell_type": "code",
   "execution_count": 52,
   "metadata": {
    "executionInfo": {
     "elapsed": 245,
     "status": "ok",
     "timestamp": 1624898160652,
     "user": {
      "displayName": "Monali Dambe",
      "photoUrl": "",
      "userId": "09026880642029004944"
     },
     "user_tz": -330
    },
    "id": "wgb-6hpRO-Lt"
   },
   "outputs": [],
   "source": [
    "X_corr_fet=relevant_features['Variables']"
   ]
  },
  {
   "cell_type": "markdown",
   "metadata": {
    "id": "vOuw5vosyUWg"
   },
   "source": [
    "Build ML Model"
   ]
  },
  {
   "cell_type": "code",
   "execution_count": 53,
   "metadata": {
    "executionInfo": {
     "elapsed": 247,
     "status": "ok",
     "timestamp": 1624898160660,
     "user": {
      "displayName": "Monali Dambe",
      "photoUrl": "",
      "userId": "09026880642029004944"
     },
     "user_tz": -330
    },
    "id": "v8sqP6huR0W6"
   },
   "outputs": [],
   "source": [
    "X_cols=list(df_train_final[X_corr_fet])\n",
    "y_col= 'SalePrice'"
   ]
  },
  {
   "cell_type": "code",
   "execution_count": 54,
   "metadata": {
    "executionInfo": {
     "elapsed": 251,
     "status": "ok",
     "timestamp": 1624898160668,
     "user": {
      "displayName": "Monali Dambe",
      "photoUrl": "",
      "userId": "09026880642029004944"
     },
     "user_tz": -330
    },
    "id": "3u0pNnWYNI0X"
   },
   "outputs": [],
   "source": [
    "X_cols.remove('SalePrice')"
   ]
  },
  {
   "cell_type": "code",
   "execution_count": 55,
   "metadata": {
    "executionInfo": {
     "elapsed": 254,
     "status": "ok",
     "timestamp": 1624898160674,
     "user": {
      "displayName": "Monali Dambe",
      "photoUrl": "",
      "userId": "09026880642029004944"
     },
     "user_tz": -330
    },
    "id": "5G16qmhB0N3c"
   },
   "outputs": [],
   "source": [
    "X=df_train_final[X_cols]\n",
    "y=df_train_final[y_col]"
   ]
  },
  {
   "cell_type": "code",
   "execution_count": 56,
   "metadata": {
    "colab": {
     "base_uri": "https://localhost:8080/",
     "height": 439
    },
    "executionInfo": {
     "elapsed": 255,
     "status": "ok",
     "timestamp": 1624898160678,
     "user": {
      "displayName": "Monali Dambe",
      "photoUrl": "",
      "userId": "09026880642029004944"
     },
     "user_tz": -330
    },
    "id": "QndJInQyPhPK",
    "outputId": "983355f6-92e6-4232-f03c-309552e8fe15"
   },
   "outputs": [
    {
     "data": {
      "text/html": [
       "<div>\n",
       "<style scoped>\n",
       "    .dataframe tbody tr th:only-of-type {\n",
       "        vertical-align: middle;\n",
       "    }\n",
       "\n",
       "    .dataframe tbody tr th {\n",
       "        vertical-align: top;\n",
       "    }\n",
       "\n",
       "    .dataframe thead th {\n",
       "        text-align: right;\n",
       "    }\n",
       "</style>\n",
       "<table border=\"1\" class=\"dataframe\">\n",
       "  <thead>\n",
       "    <tr style=\"text-align: right;\">\n",
       "      <th></th>\n",
       "      <th>OverallQual</th>\n",
       "      <th>GrLivArea</th>\n",
       "      <th>GarageCars</th>\n",
       "      <th>GarageArea</th>\n",
       "      <th>TotalBsmtSF</th>\n",
       "      <th>1stFlrSF</th>\n",
       "      <th>ExterQual_TA</th>\n",
       "      <th>FullBath</th>\n",
       "      <th>BsmtQual_Ex</th>\n",
       "      <th>TotRmsAbvGrd</th>\n",
       "      <th>...</th>\n",
       "      <th>Exterior1st_VinylSd</th>\n",
       "      <th>MSZoning_RM</th>\n",
       "      <th>HalfBath</th>\n",
       "      <th>GarageCond_TA</th>\n",
       "      <th>LotShape_Reg</th>\n",
       "      <th>LotArea</th>\n",
       "      <th>BsmtExposure_No</th>\n",
       "      <th>FireplaceQu_Ex</th>\n",
       "      <th>CentralAir_Y</th>\n",
       "      <th>CentralAir_N</th>\n",
       "    </tr>\n",
       "  </thead>\n",
       "  <tbody>\n",
       "    <tr>\n",
       "      <th>0</th>\n",
       "      <td>7</td>\n",
       "      <td>1710</td>\n",
       "      <td>2</td>\n",
       "      <td>548</td>\n",
       "      <td>856</td>\n",
       "      <td>856</td>\n",
       "      <td>0</td>\n",
       "      <td>2</td>\n",
       "      <td>0</td>\n",
       "      <td>8</td>\n",
       "      <td>...</td>\n",
       "      <td>1</td>\n",
       "      <td>0</td>\n",
       "      <td>1</td>\n",
       "      <td>1</td>\n",
       "      <td>1</td>\n",
       "      <td>8450</td>\n",
       "      <td>1</td>\n",
       "      <td>0</td>\n",
       "      <td>1</td>\n",
       "      <td>0</td>\n",
       "    </tr>\n",
       "    <tr>\n",
       "      <th>1</th>\n",
       "      <td>6</td>\n",
       "      <td>1262</td>\n",
       "      <td>2</td>\n",
       "      <td>460</td>\n",
       "      <td>1262</td>\n",
       "      <td>1262</td>\n",
       "      <td>1</td>\n",
       "      <td>2</td>\n",
       "      <td>0</td>\n",
       "      <td>6</td>\n",
       "      <td>...</td>\n",
       "      <td>0</td>\n",
       "      <td>0</td>\n",
       "      <td>0</td>\n",
       "      <td>1</td>\n",
       "      <td>1</td>\n",
       "      <td>9600</td>\n",
       "      <td>0</td>\n",
       "      <td>0</td>\n",
       "      <td>1</td>\n",
       "      <td>0</td>\n",
       "    </tr>\n",
       "    <tr>\n",
       "      <th>2</th>\n",
       "      <td>7</td>\n",
       "      <td>1786</td>\n",
       "      <td>2</td>\n",
       "      <td>608</td>\n",
       "      <td>920</td>\n",
       "      <td>920</td>\n",
       "      <td>0</td>\n",
       "      <td>2</td>\n",
       "      <td>0</td>\n",
       "      <td>6</td>\n",
       "      <td>...</td>\n",
       "      <td>1</td>\n",
       "      <td>0</td>\n",
       "      <td>1</td>\n",
       "      <td>1</td>\n",
       "      <td>0</td>\n",
       "      <td>11250</td>\n",
       "      <td>0</td>\n",
       "      <td>0</td>\n",
       "      <td>1</td>\n",
       "      <td>0</td>\n",
       "    </tr>\n",
       "    <tr>\n",
       "      <th>3</th>\n",
       "      <td>7</td>\n",
       "      <td>1717</td>\n",
       "      <td>3</td>\n",
       "      <td>642</td>\n",
       "      <td>756</td>\n",
       "      <td>961</td>\n",
       "      <td>1</td>\n",
       "      <td>1</td>\n",
       "      <td>0</td>\n",
       "      <td>7</td>\n",
       "      <td>...</td>\n",
       "      <td>0</td>\n",
       "      <td>0</td>\n",
       "      <td>0</td>\n",
       "      <td>1</td>\n",
       "      <td>0</td>\n",
       "      <td>9550</td>\n",
       "      <td>1</td>\n",
       "      <td>0</td>\n",
       "      <td>1</td>\n",
       "      <td>0</td>\n",
       "    </tr>\n",
       "    <tr>\n",
       "      <th>4</th>\n",
       "      <td>8</td>\n",
       "      <td>2198</td>\n",
       "      <td>3</td>\n",
       "      <td>836</td>\n",
       "      <td>1145</td>\n",
       "      <td>1145</td>\n",
       "      <td>0</td>\n",
       "      <td>2</td>\n",
       "      <td>0</td>\n",
       "      <td>9</td>\n",
       "      <td>...</td>\n",
       "      <td>1</td>\n",
       "      <td>0</td>\n",
       "      <td>1</td>\n",
       "      <td>1</td>\n",
       "      <td>0</td>\n",
       "      <td>14260</td>\n",
       "      <td>0</td>\n",
       "      <td>0</td>\n",
       "      <td>1</td>\n",
       "      <td>0</td>\n",
       "    </tr>\n",
       "    <tr>\n",
       "      <th>...</th>\n",
       "      <td>...</td>\n",
       "      <td>...</td>\n",
       "      <td>...</td>\n",
       "      <td>...</td>\n",
       "      <td>...</td>\n",
       "      <td>...</td>\n",
       "      <td>...</td>\n",
       "      <td>...</td>\n",
       "      <td>...</td>\n",
       "      <td>...</td>\n",
       "      <td>...</td>\n",
       "      <td>...</td>\n",
       "      <td>...</td>\n",
       "      <td>...</td>\n",
       "      <td>...</td>\n",
       "      <td>...</td>\n",
       "      <td>...</td>\n",
       "      <td>...</td>\n",
       "      <td>...</td>\n",
       "      <td>...</td>\n",
       "      <td>...</td>\n",
       "    </tr>\n",
       "    <tr>\n",
       "      <th>1455</th>\n",
       "      <td>6</td>\n",
       "      <td>1647</td>\n",
       "      <td>2</td>\n",
       "      <td>460</td>\n",
       "      <td>953</td>\n",
       "      <td>953</td>\n",
       "      <td>1</td>\n",
       "      <td>2</td>\n",
       "      <td>0</td>\n",
       "      <td>7</td>\n",
       "      <td>...</td>\n",
       "      <td>1</td>\n",
       "      <td>0</td>\n",
       "      <td>1</td>\n",
       "      <td>1</td>\n",
       "      <td>1</td>\n",
       "      <td>7917</td>\n",
       "      <td>1</td>\n",
       "      <td>0</td>\n",
       "      <td>1</td>\n",
       "      <td>0</td>\n",
       "    </tr>\n",
       "    <tr>\n",
       "      <th>1456</th>\n",
       "      <td>6</td>\n",
       "      <td>2073</td>\n",
       "      <td>2</td>\n",
       "      <td>500</td>\n",
       "      <td>1542</td>\n",
       "      <td>2073</td>\n",
       "      <td>1</td>\n",
       "      <td>2</td>\n",
       "      <td>0</td>\n",
       "      <td>7</td>\n",
       "      <td>...</td>\n",
       "      <td>0</td>\n",
       "      <td>0</td>\n",
       "      <td>0</td>\n",
       "      <td>1</td>\n",
       "      <td>1</td>\n",
       "      <td>13175</td>\n",
       "      <td>1</td>\n",
       "      <td>0</td>\n",
       "      <td>1</td>\n",
       "      <td>0</td>\n",
       "    </tr>\n",
       "    <tr>\n",
       "      <th>1457</th>\n",
       "      <td>7</td>\n",
       "      <td>2340</td>\n",
       "      <td>1</td>\n",
       "      <td>252</td>\n",
       "      <td>1152</td>\n",
       "      <td>1188</td>\n",
       "      <td>0</td>\n",
       "      <td>2</td>\n",
       "      <td>0</td>\n",
       "      <td>9</td>\n",
       "      <td>...</td>\n",
       "      <td>0</td>\n",
       "      <td>0</td>\n",
       "      <td>0</td>\n",
       "      <td>1</td>\n",
       "      <td>1</td>\n",
       "      <td>9042</td>\n",
       "      <td>1</td>\n",
       "      <td>0</td>\n",
       "      <td>1</td>\n",
       "      <td>0</td>\n",
       "    </tr>\n",
       "    <tr>\n",
       "      <th>1458</th>\n",
       "      <td>5</td>\n",
       "      <td>1078</td>\n",
       "      <td>1</td>\n",
       "      <td>240</td>\n",
       "      <td>1078</td>\n",
       "      <td>1078</td>\n",
       "      <td>1</td>\n",
       "      <td>1</td>\n",
       "      <td>0</td>\n",
       "      <td>5</td>\n",
       "      <td>...</td>\n",
       "      <td>0</td>\n",
       "      <td>0</td>\n",
       "      <td>0</td>\n",
       "      <td>1</td>\n",
       "      <td>1</td>\n",
       "      <td>9717</td>\n",
       "      <td>0</td>\n",
       "      <td>0</td>\n",
       "      <td>1</td>\n",
       "      <td>0</td>\n",
       "    </tr>\n",
       "    <tr>\n",
       "      <th>1459</th>\n",
       "      <td>5</td>\n",
       "      <td>1256</td>\n",
       "      <td>1</td>\n",
       "      <td>276</td>\n",
       "      <td>1256</td>\n",
       "      <td>1256</td>\n",
       "      <td>0</td>\n",
       "      <td>1</td>\n",
       "      <td>0</td>\n",
       "      <td>6</td>\n",
       "      <td>...</td>\n",
       "      <td>0</td>\n",
       "      <td>0</td>\n",
       "      <td>1</td>\n",
       "      <td>1</td>\n",
       "      <td>1</td>\n",
       "      <td>9937</td>\n",
       "      <td>1</td>\n",
       "      <td>0</td>\n",
       "      <td>1</td>\n",
       "      <td>0</td>\n",
       "    </tr>\n",
       "  </tbody>\n",
       "</table>\n",
       "<p>1460 rows × 55 columns</p>\n",
       "</div>"
      ],
      "text/plain": [
       "      OverallQual  GrLivArea  GarageCars  GarageArea  TotalBsmtSF  1stFlrSF  \\\n",
       "0               7       1710           2         548          856       856   \n",
       "1               6       1262           2         460         1262      1262   \n",
       "2               7       1786           2         608          920       920   \n",
       "3               7       1717           3         642          756       961   \n",
       "4               8       2198           3         836         1145      1145   \n",
       "...           ...        ...         ...         ...          ...       ...   \n",
       "1455            6       1647           2         460          953       953   \n",
       "1456            6       2073           2         500         1542      2073   \n",
       "1457            7       2340           1         252         1152      1188   \n",
       "1458            5       1078           1         240         1078      1078   \n",
       "1459            5       1256           1         276         1256      1256   \n",
       "\n",
       "      ExterQual_TA  FullBath  BsmtQual_Ex  TotRmsAbvGrd  ...  \\\n",
       "0                0         2            0             8  ...   \n",
       "1                1         2            0             6  ...   \n",
       "2                0         2            0             6  ...   \n",
       "3                1         1            0             7  ...   \n",
       "4                0         2            0             9  ...   \n",
       "...            ...       ...          ...           ...  ...   \n",
       "1455             1         2            0             7  ...   \n",
       "1456             1         2            0             7  ...   \n",
       "1457             0         2            0             9  ...   \n",
       "1458             1         1            0             5  ...   \n",
       "1459             0         1            0             6  ...   \n",
       "\n",
       "      Exterior1st_VinylSd  MSZoning_RM  HalfBath  GarageCond_TA  LotShape_Reg  \\\n",
       "0                       1            0         1              1             1   \n",
       "1                       0            0         0              1             1   \n",
       "2                       1            0         1              1             0   \n",
       "3                       0            0         0              1             0   \n",
       "4                       1            0         1              1             0   \n",
       "...                   ...          ...       ...            ...           ...   \n",
       "1455                    1            0         1              1             1   \n",
       "1456                    0            0         0              1             1   \n",
       "1457                    0            0         0              1             1   \n",
       "1458                    0            0         0              1             1   \n",
       "1459                    0            0         1              1             1   \n",
       "\n",
       "      LotArea  BsmtExposure_No  FireplaceQu_Ex  CentralAir_Y  CentralAir_N  \n",
       "0        8450                1               0             1             0  \n",
       "1        9600                0               0             1             0  \n",
       "2       11250                0               0             1             0  \n",
       "3        9550                1               0             1             0  \n",
       "4       14260                0               0             1             0  \n",
       "...       ...              ...             ...           ...           ...  \n",
       "1455     7917                1               0             1             0  \n",
       "1456    13175                1               0             1             0  \n",
       "1457     9042                1               0             1             0  \n",
       "1458     9717                0               0             1             0  \n",
       "1459     9937                1               0             1             0  \n",
       "\n",
       "[1460 rows x 55 columns]"
      ]
     },
     "execution_count": 56,
     "metadata": {},
     "output_type": "execute_result"
    }
   ],
   "source": [
    "X"
   ]
  },
  {
   "cell_type": "code",
   "execution_count": 57,
   "metadata": {
    "colab": {
     "base_uri": "https://localhost:8080/"
    },
    "executionInfo": {
     "elapsed": 251,
     "status": "ok",
     "timestamp": 1624898160682,
     "user": {
      "displayName": "Monali Dambe",
      "photoUrl": "",
      "userId": "09026880642029004944"
     },
     "user_tz": -330
    },
    "id": "XPjapy2jAqUB",
    "outputId": "052c5e43-72d9-4e0f-e288-cd0a67c5d4ac"
   },
   "outputs": [
    {
     "data": {
      "text/plain": [
       "((1022, 55), (438, 55))"
      ]
     },
     "execution_count": 57,
     "metadata": {},
     "output_type": "execute_result"
    }
   ],
   "source": [
    "from sklearn.model_selection import train_test_split\n",
    "X_train,X_val,y_train,y_val=train_test_split(X,y,test_size=0.30, random_state=30)\n",
    "X_train.shape, X_val.shape"
   ]
  },
  {
   "cell_type": "code",
   "execution_count": 58,
   "metadata": {
    "executionInfo": {
     "elapsed": 236,
     "status": "ok",
     "timestamp": 1624898160689,
     "user": {
      "displayName": "Monali Dambe",
      "photoUrl": "",
      "userId": "09026880642029004944"
     },
     "user_tz": -330
    },
    "id": "DRJLLxpLc0Cp"
   },
   "outputs": [],
   "source": [
    "from sklearn.ensemble import RandomForestRegressor"
   ]
  },
  {
   "cell_type": "code",
   "execution_count": 59,
   "metadata": {
    "colab": {
     "base_uri": "https://localhost:8080/"
    },
    "executionInfo": {
     "elapsed": 242,
     "status": "ok",
     "timestamp": 1624898160698,
     "user": {
      "displayName": "Monali Dambe",
      "photoUrl": "",
      "userId": "09026880642029004944"
     },
     "user_tz": -330
    },
    "id": "ihiphttFxkjD",
    "outputId": "0c2fd372-9731-4867-f2f2-b7b022aa4485"
   },
   "outputs": [
    {
     "data": {
      "text/plain": [
       "0.8459925449292689"
      ]
     },
     "execution_count": 59,
     "metadata": {},
     "output_type": "execute_result"
    }
   ],
   "source": [
    "#without hyperparameter tunning\n",
    "model= RandomForestRegressor (random_state=96)\n",
    "model.fit(X_train,y_train)\n",
    "model.score(X_val,y_val)"
   ]
  },
  {
   "cell_type": "code",
   "execution_count": 60,
   "metadata": {
    "colab": {
     "base_uri": "https://localhost:8080/"
    },
    "executionInfo": {
     "elapsed": 1652257,
     "status": "ok",
     "timestamp": 1624899812732,
     "user": {
      "displayName": "Monali Dambe",
      "photoUrl": "",
      "userId": "09026880642029004944"
     },
     "user_tz": -330
    },
    "id": "-l6eQnYbcnXO",
    "outputId": "938e4c70-cec2-45b4-8850-5690cedc8941"
   },
   "outputs": [
    {
     "data": {
      "text/plain": [
       "GridSearchCV(cv=10, estimator=RandomForestRegressor(random_state=96), n_jobs=-1,\n",
       "             param_grid={'max_depth': [200, 250, 300],\n",
       "                         'max_features': ['auto', 'sqrt', 'log2'],\n",
       "                         'min_samples_leaf': [1, 2, 3],\n",
       "                         'n_estimators': [100, 500, 1000]})"
      ]
     },
     "execution_count": 60,
     "metadata": {},
     "output_type": "execute_result"
    }
   ],
   "source": [
    " #hypyerparameter tunning\n",
    "param_grid = {'n_estimators': [100,500,1000],\n",
    "    'max_features' : [\"auto\", \"sqrt\", \"log2\"],\n",
    "    'min_samples_leaf' : [1,2,3],\n",
    "     'max_depth' : [200,250,300]}\n",
    " \n",
    "from sklearn.model_selection import GridSearchCV\n",
    "CV_rfR = GridSearchCV(estimator=model, param_grid=param_grid, cv= 10, n_jobs = -1)\n",
    "CV_rfR.fit(X_train, y_train)"
   ]
  },
  {
   "cell_type": "code",
   "execution_count": 61,
   "metadata": {
    "colab": {
     "base_uri": "https://localhost:8080/"
    },
    "executionInfo": {
     "elapsed": 30,
     "status": "ok",
     "timestamp": 1624899812735,
     "user": {
      "displayName": "Monali Dambe",
      "photoUrl": "",
      "userId": "09026880642029004944"
     },
     "user_tz": -330
    },
    "id": "TEBIkMv-iQ7E",
    "outputId": "13c0ce07-abd3-4946-95a6-e587cac9189f"
   },
   "outputs": [
    {
     "data": {
      "text/plain": [
       "{'max_depth': 200,\n",
       " 'max_features': 'sqrt',\n",
       " 'min_samples_leaf': 1,\n",
       " 'n_estimators': 100}"
      ]
     },
     "execution_count": 61,
     "metadata": {},
     "output_type": "execute_result"
    }
   ],
   "source": [
    "CV_rfR.best_params_"
   ]
  },
  {
   "cell_type": "code",
   "execution_count": 62,
   "metadata": {
    "colab": {
     "base_uri": "https://localhost:8080/"
    },
    "executionInfo": {
     "elapsed": 33328,
     "status": "ok",
     "timestamp": 1624899963864,
     "user": {
      "displayName": "Monali Dambe",
      "photoUrl": "",
      "userId": "09026880642029004944"
     },
     "user_tz": -330
    },
    "id": "CahrZNwfBf8m",
    "outputId": "23afd1f7-d8c2-4e7f-f186-c1dd6bc8fa39"
   },
   "outputs": [
    {
     "data": {
      "text/plain": [
       "0.8621994621927623"
      ]
     },
     "execution_count": 62,
     "metadata": {},
     "output_type": "execute_result"
    }
   ],
   "source": [
    "#with hyperparameter tunning\n",
    "model= RandomForestRegressor (max_depth= 200,\n",
    " max_features= 'sqrt',\n",
    " min_samples_leaf= 1,\n",
    " n_estimators= 100,random_state=96)\n",
    "model.fit(X_train,y_train)\n",
    "model.score(X_val,y_val)"
   ]
  },
  {
   "cell_type": "code",
   "execution_count": 63,
   "metadata": {
    "executionInfo": {
     "elapsed": 496,
     "status": "ok",
     "timestamp": 1624900006249,
     "user": {
      "displayName": "Monali Dambe",
      "photoUrl": "",
      "userId": "09026880642029004944"
     },
     "user_tz": -330
    },
    "id": "sw4ailpFP9Cv"
   },
   "outputs": [],
   "source": [
    "X_test_cols=df_test_final[X_cols]"
   ]
  },
  {
   "cell_type": "code",
   "execution_count": 64,
   "metadata": {
    "colab": {
     "base_uri": "https://localhost:8080/"
    },
    "executionInfo": {
     "elapsed": 43263,
     "status": "ok",
     "timestamp": 1624900051120,
     "user": {
      "displayName": "Monali Dambe",
      "photoUrl": "",
      "userId": "09026880642029004944"
     },
     "user_tz": -330
    },
    "id": "eFMCUdS8wud0",
    "outputId": "c2eca20c-b94d-4cd0-d3f2-f2d11acb4e7d"
   },
   "outputs": [
    {
     "data": {
      "text/plain": [
       "array([128246.498, 149309.51 , 181229.456, ..., 158567.132, 111959.1  ,\n",
       "       224066.224])"
      ]
     },
     "execution_count": 64,
     "metadata": {},
     "output_type": "execute_result"
    }
   ],
   "source": [
    "model_final = RandomForestRegressor (max_depth= 200,max_features= 'sqrt',min_samples_leaf= 1,n_estimators= 500)\n",
    "model_final.fit(X,y)\n",
    "y_pre=model_final.predict(df_test_final[X_cols])\n",
    "y_pre"
   ]
  },
  {
   "cell_type": "code",
   "execution_count": 65,
   "metadata": {
    "executionInfo": {
     "elapsed": 504,
     "status": "ok",
     "timestamp": 1624900061402,
     "user": {
      "displayName": "Monali Dambe",
      "photoUrl": "",
      "userId": "09026880642029004944"
     },
     "user_tz": -330
    },
    "id": "W9PC_XE0wnvu"
   },
   "outputs": [],
   "source": [
    " from sklearn.metrics import mean_squared_log_error"
   ]
  },
  {
   "cell_type": "code",
   "execution_count": 66,
   "metadata": {
    "colab": {
     "base_uri": "https://localhost:8080/"
    },
    "executionInfo": {
     "elapsed": 17,
     "status": "ok",
     "timestamp": 1624900171318,
     "user": {
      "displayName": "Monali Dambe",
      "photoUrl": "",
      "userId": "09026880642029004944"
     },
     "user_tz": -330
    },
    "id": "06wzHBuHxVxO",
    "outputId": "2c8d74f1-946f-4e53-c88e-1f41904c774b"
   },
   "outputs": [
    {
     "data": {
      "text/plain": [
       "0.2784825096377072"
      ]
     },
     "execution_count": 66,
     "metadata": {},
     "output_type": "execute_result"
    }
   ],
   "source": [
    " mean_squared_log_error(y[:-1],y_pre)"
   ]
  },
  {
   "cell_type": "code",
   "execution_count": 67,
   "metadata": {
    "colab": {
     "base_uri": "https://localhost:8080/"
    },
    "executionInfo": {
     "elapsed": 565,
     "status": "ok",
     "timestamp": 1624900173670,
     "user": {
      "displayName": "Monali Dambe",
      "photoUrl": "",
      "userId": "09026880642029004944"
     },
     "user_tz": -330
    },
    "id": "jTAJtEDmjKeO",
    "outputId": "fef4822b-1218-4c6b-8e51-962b9187f16b"
   },
   "outputs": [
    {
     "name": "stdout",
     "output_type": "stream",
     "text": [
      "        Id   SalePrice\n",
      "0     1461  128246.498\n",
      "1     1462  149309.510\n",
      "2     1463  181229.456\n",
      "3     1464  186803.298\n",
      "4     1465  190255.910\n",
      "...    ...         ...\n",
      "1454  2915   86406.394\n",
      "1455  2916   89851.400\n",
      "1456  2917  158567.132\n",
      "1457  2918  111959.100\n",
      "1458  2919  224066.224\n",
      "\n",
      "[1459 rows x 2 columns]\n"
     ]
    }
   ],
   "source": [
    "prediction= pd.DataFrame({'Id': test_Id, 'SalePrice':y_pre})\n",
    "print(prediction)\n",
    " \n",
    "prediction.to_csv('prediction_House_Price.csv', index = False)"
   ]
  },
  {
   "cell_type": "code",
   "execution_count": null,
   "metadata": {
    "executionInfo": {
     "elapsed": 436,
     "status": "ok",
     "timestamp": 1624900070843,
     "user": {
      "displayName": "Monali Dambe",
      "photoUrl": "",
      "userId": "09026880642029004944"
     },
     "user_tz": -330
    },
    "id": "XIT91EI-dBqF"
   },
   "outputs": [],
   "source": []
  }
 ],
 "metadata": {
  "colab": {
   "authorship_tag": "ABX9TyOAn4TViyKfC7RfxSbwtu6Y",
   "collapsed_sections": [],
   "mount_file_id": "1-2Y4Wgf0C1buHAdoJPhmZoWs_ZTXmqei",
   "name": "final_House_Pri_Pre_Pra.ipynb",
   "provenance": [
    {
     "file_id": "1pSQjlMdy88i5UqRCCNroA9t4beWdSaAX",
     "timestamp": 1624885487405
    },
    {
     "file_id": "12x4Yltch4rd1Q2VPooveQAHZw_ULhuQg",
     "timestamp": 1624525182084
    }
   ]
  },
  "kernelspec": {
   "display_name": "Python 3",
   "language": "python",
   "name": "python3"
  },
  "language_info": {
   "codemirror_mode": {
    "name": "ipython",
    "version": 3
   },
   "file_extension": ".py",
   "mimetype": "text/x-python",
   "name": "python",
   "nbconvert_exporter": "python",
   "pygments_lexer": "ipython3",
   "version": "3.8.8"
  }
 },
 "nbformat": 4,
 "nbformat_minor": 1
}
